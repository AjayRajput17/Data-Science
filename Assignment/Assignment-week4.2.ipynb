{
 "cells": [
  {
   "cell_type": "markdown",
   "id": "56e42471-6978-4276-b118-262b9d45481b",
   "metadata": {},
   "source": [
    "Question 1"
   ]
  },
  {
   "cell_type": "markdown",
   "id": "487fefca-68db-499f-b296-5f9a63b3979e",
   "metadata": {},
   "source": [
    "Q1. Explain Class and Object with respect to Object-Oriented Programming. Give a suitable example.\n",
    "ans:-\n",
    "     In object-oriented programming (OOP), a class is a blueprint or a template that defines the structure and behavior of objects. It serves as a blueprint for creating objects, specifying their attributes (data) and methods (functions) that define their behavior. An object, on the other hand, is an instance of a class. It is a tangible entity that encapsulates data and provides methods to interact with that data.\n",
    "     example:\n",
    "             The 'student' is the class define the stucture of the object. it contain the attributes like 'studenet_name','department','marks','age' etc and also contains method like 'set_details' and 'get_details'.The class student may contains the mulltiple object like student1,studnt2 etc. the every student has their seprate object and that contain their all class attributes. when create a object and call the method then the method use the attributes associated with the object and return the result.\n",
    "             \n",
    "     "
   ]
  },
  {
   "cell_type": "code",
   "execution_count": 1,
   "id": "30043a88-7688-4a21-95a1-9bfa5516f6d4",
   "metadata": {},
   "outputs": [],
   "source": [
    "class student :\n",
    "    \n",
    "    def __init__(self,name,dept,age):\n",
    "        self.name= name\n",
    "        self.dept = dept\n",
    "        self.age  = age\n",
    "        \n",
    "    def set_details(self,name,dept,age):\n",
    "        self.name= name\n",
    "        self.dept = dept\n",
    "        self.age  = age\n",
    "        \n",
    "    def get_details(self):\n",
    "        return self.name,self.dept,self.age\n",
    "        "
   ]
  },
  {
   "cell_type": "code",
   "execution_count": 2,
   "id": "4cc761b6-ad35-4437-820a-417af4a7d0b8",
   "metadata": {},
   "outputs": [],
   "source": [
    "student1 = student(\"ajay\",\"IT\",21)"
   ]
  },
  {
   "cell_type": "code",
   "execution_count": 3,
   "id": "3cbcdb59-f159-4977-b091-57d6afbe084f",
   "metadata": {},
   "outputs": [
    {
     "data": {
      "text/plain": [
       "('ajay', 'IT', 21)"
      ]
     },
     "execution_count": 3,
     "metadata": {},
     "output_type": "execute_result"
    }
   ],
   "source": [
    "student1.get_details()"
   ]
  },
  {
   "cell_type": "code",
   "execution_count": 4,
   "id": "c57523bd-1de7-4f8e-b2bd-e86f71206b1d",
   "metadata": {},
   "outputs": [],
   "source": [
    "student1.set_details(\"ajay\",\"IT\",\"20\")"
   ]
  },
  {
   "cell_type": "code",
   "execution_count": 2,
   "id": "09826986-6d5b-4084-ad31-64417ef1ae75",
   "metadata": {},
   "outputs": [],
   "source": [
    "student2 =student(\"vijay\",\"CSE\",21)"
   ]
  },
  {
   "cell_type": "code",
   "execution_count": 3,
   "id": "d8da6c4d-86ef-4bda-bc23-d6de0ad5a911",
   "metadata": {},
   "outputs": [
    {
     "data": {
      "text/plain": [
       "('vijay', 'CSE', 21)"
      ]
     },
     "execution_count": 3,
     "metadata": {},
     "output_type": "execute_result"
    }
   ],
   "source": [
    "student2.get_details()"
   ]
  },
  {
   "cell_type": "markdown",
   "id": "7245c564-fc04-4d01-86e4-1289486c34dc",
   "metadata": {},
   "source": [
    "Question 2"
   ]
  },
  {
   "cell_type": "markdown",
   "id": "05f0ef4b-bc64-4db1-8c8a-45fcc702321f",
   "metadata": {},
   "source": [
    "Q2. Name the four pillars of OOPs."
   ]
  },
  {
   "cell_type": "markdown",
   "id": "c1055041-63a4-4f57-9f90-5992e0d477e9",
   "metadata": {},
   "source": [
    "    1.Encapsulation\n",
    "    2.Inheritance\n",
    "    3.Polymorphism\n",
    "    4.Abstraction"
   ]
  },
  {
   "cell_type": "markdown",
   "id": "64612938-9e81-4f8e-92ee-f87012c1e10a",
   "metadata": {},
   "source": [
    "Question 3"
   ]
  },
  {
   "cell_type": "markdown",
   "id": "3406da91-9044-42cf-af2f-e12281690583",
   "metadata": {},
   "source": [
    "Q3. Explain why the __init__() function is used. Give a suitable example."
   ]
  },
  {
   "cell_type": "markdown",
   "id": "af977d69-478e-4b39-8936-7bf1b598ef4e",
   "metadata": {},
   "source": [
    "ans:- The __init__() function is a special method in Python that is automatically called when an object is created from a class. It is used to initialize the attributes of the object with specific values. The primary purpose of the __init__() function is to set up the initial state of the object.The __init__() method is essential for setting up the initial state of an object, ensuring that it has all the necessary attributes with appropriate values. It allows objects to be created with specific initial data, making them ready to perform actions or provide information right from the start."
   ]
  },
  {
   "cell_type": "code",
   "execution_count": 10,
   "id": "d62d3681-e794-46f4-a1b4-b647cfda3e07",
   "metadata": {},
   "outputs": [
    {
     "name": "stdout",
     "output_type": "stream",
     "text": [
      "ajay ajay@gmail.com\n",
      "vijay vijay@gmail.com\n"
     ]
    }
   ],
   "source": [
    "class Student3 :\n",
    "    \n",
    "    def __init__(self,name,email):\n",
    "        self.name = name\n",
    "        self.email = email\n",
    "        \n",
    "    def details(self):\n",
    "        print( self.name,self.email)\n",
    "    \n",
    "    \n",
    "student1 = Student3(\"ajay\",\"ajay@gmail.com\")\n",
    "student2 = Student3(\"vijay\",\"vijay@gmail.com\")\n",
    "student1.details()\n",
    "student2.details()"
   ]
  },
  {
   "cell_type": "markdown",
   "id": "7a227a2e-dd2b-4ed7-9194-a3ac548c1229",
   "metadata": {},
   "source": [
    "Question 4"
   ]
  },
  {
   "cell_type": "markdown",
   "id": "a0229aee-0ff9-495d-bba8-a9b8e70f6eeb",
   "metadata": {},
   "source": [
    "Q4. Why self is used in OOPs?"
   ]
  },
  {
   "cell_type": "markdown",
   "id": "941fe2ed-b398-472a-bc73-4cb10db97c7e",
   "metadata": {},
   "source": [
    "In Object-Oriented Programming (OOP), the self keyword is used as a convention to refer to the instance of a class within its own methods. It is a reference to the object itself, allowing the object to access its attributes and methods.The self parameter is typically the first parameter in instance methods defined within a class. It is automatically passed as an argument when the method is called on an object. By convention, the parameter is named self, although you could technically use any valid variable name."
   ]
  },
  {
   "cell_type": "code",
   "execution_count": 12,
   "id": "a7c8ca86-f57c-40d8-a94d-904522fbdd28",
   "metadata": {},
   "outputs": [
    {
     "name": "stdout",
     "output_type": "stream",
     "text": [
      "78.5\n"
     ]
    }
   ],
   "source": [
    "class Circle:\n",
    "    def __init__(self, radius):\n",
    "        self.radius = radius\n",
    "\n",
    "    def calculate_area(self):\n",
    "        area = 3.14 * self.radius ** 2\n",
    "        return area\n",
    "\n",
    "\n",
    "circle1 = Circle(5)\n",
    "print(circle1.calculate_area()) "
   ]
  },
  {
   "cell_type": "markdown",
   "id": "75cc1444-20b8-4f5b-92fd-c94980c0e971",
   "metadata": {},
   "source": [
    "Q5. What is inheritance? Give an example for each type of inheritance."
   ]
  },
  {
   "cell_type": "markdown",
   "id": "5dabe520-581d-457d-978f-e94fa2bdfaf3",
   "metadata": {},
   "source": [
    "Inheritance:- Inheritance is a fundamental concept in object-oriented programming (OOP) that allows a class to inherit properties and methods from another class. In Python, inheritance is achieved by creating a new class (child class) from an existing class (parent class). The child class inherits all the attributes and behaviors (methods) of the parent class and can also add new attributes or override existing ones."
   ]
  },
  {
   "cell_type": "markdown",
   "id": "254ea8ef-e72f-4cb2-a986-5be08c63983e",
   "metadata": {},
   "source": [
    "1.Single Inheritance:\n",
    "Single inheritance refers to the inheritance of attributes and behaviors from a single superclass. It is the most common type of inheritance. In single inheritance, a subclass inherits all the properties of the superclass. Here's an example:"
   ]
  },
  {
   "cell_type": "code",
   "execution_count": 14,
   "id": "f8b714f3-3bf0-4ce6-95f5-d900300c4fdf",
   "metadata": {},
   "outputs": [
    {
     "name": "stdout",
     "output_type": "stream",
     "text": [
      "This is the parent class method\n"
     ]
    }
   ],
   "source": [
    "class parent_class :\n",
    "    \n",
    "    def details(self):\n",
    "        print(\"This is the parent class method\")\n",
    "        \n",
    "class child_class(parent_class) :\n",
    "    pass\n",
    "\n",
    "obj = child_class()\n",
    "obj.details()"
   ]
  },
  {
   "cell_type": "markdown",
   "id": "ea9883b3-f15c-4543-9ce7-c126e46ab973",
   "metadata": {},
   "source": [
    "2.Multiple inheritance:- Multiple inheritance is a feature in object-oriented programming languages that allows a class to inherit attributes and methods from multiple parent classes."
   ]
  },
  {
   "cell_type": "code",
   "execution_count": 15,
   "id": "5f88dbd6-1293-4484-8239-b810a677ca26",
   "metadata": {},
   "outputs": [
    {
     "name": "stdout",
     "output_type": "stream",
     "text": [
      "this is the father class\n",
      "this is the mother class\n"
     ]
    }
   ],
   "source": [
    "\n",
    "class father():\n",
    "    \n",
    "    def father(self):\n",
    "        return \"this is the father class\"\n",
    "    \n",
    "class mother:\n",
    "    \n",
    "    def mother(self):\n",
    "        return \"this is the mother class\"\n",
    "\n",
    "class son(father,mother): # son class is inheru\n",
    "    pass\n",
    "\n",
    "c = son()\n",
    "print(c.father())\n",
    "print(c.mother())"
   ]
  },
  {
   "cell_type": "markdown",
   "id": "c3cf3ad3-19fa-4ca4-95bf-64f010c5fdaf",
   "metadata": {},
   "source": [
    "3.Multiple Inheritance:\n",
    "Multiple inheritance refers to the inheritance of attributes and behaviors from multiple superclasses. In multiple inheritance, a subclass can inherit from two or more superclasses. Here's an example:"
   ]
  },
  {
   "cell_type": "code",
   "execution_count": 16,
   "id": "9441e8a8-b8b5-4d9c-8dcb-a9b2e9433309",
   "metadata": {},
   "outputs": [
    {
     "name": "stdout",
     "output_type": "stream",
     "text": [
      "Flying...\n",
      "Swimming...\n"
     ]
    }
   ],
   "source": [
    "class Flyer:\n",
    "    def fly(self):\n",
    "        print(\"Flying...\")\n",
    "\n",
    "class Swimmer:\n",
    "    def swim(self):\n",
    "        print(\"Swimming...\")\n",
    "\n",
    "class Bird(Flyer, Swimmer):\n",
    "    pass\n",
    "\n",
    "\n",
    "bird = Bird()\n",
    "bird.fly()  \n",
    "bird.swim() \n"
   ]
  },
  {
   "cell_type": "code",
   "execution_count": null,
   "id": "a6c69420-8c16-4d93-a26b-401c1502048d",
   "metadata": {},
   "outputs": [],
   "source": []
  }
 ],
 "metadata": {
  "kernelspec": {
   "display_name": "Python 3 (ipykernel)",
   "language": "python",
   "name": "python3"
  },
  "language_info": {
   "codemirror_mode": {
    "name": "ipython",
    "version": 3
   },
   "file_extension": ".py",
   "mimetype": "text/x-python",
   "name": "python",
   "nbconvert_exporter": "python",
   "pygments_lexer": "ipython3",
   "version": "3.10.8"
  }
 },
 "nbformat": 4,
 "nbformat_minor": 5
}
