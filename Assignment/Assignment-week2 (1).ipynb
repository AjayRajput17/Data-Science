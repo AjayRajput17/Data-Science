{
 "cells": [
  {
   "cell_type": "markdown",
   "id": "36739582-c78e-4dce-be49-5f804af54094",
   "metadata": {},
   "source": [
    "Assignment"
   ]
  },
  {
   "cell_type": "markdown",
   "id": "05999d34-4888-4f27-ba9a-006cc2771367",
   "metadata": {},
   "source": [
    "Question 1"
   ]
  },
  {
   "cell_type": "markdown",
   "id": "8945bd72-cc5d-4235-8cd8-7b2e2236f0bb",
   "metadata": {},
   "source": [
    "Q1. How do you comment code in Python? What are the different types of comments?\n",
    "\n",
    "ans:-  In the python the comment are the code which tell the compilers to ignore the line while in execution.it will tell the compiler to does not execute this line,it will be specify that it is not code it is the imformation about the code.The comment makes the code more readable.When other developer read the code the comment are helpful them to understand the code.\n",
    "   In the python if you want to comment the code the you just need to write the '#' symbol to the fornt of the line \n",
    "    "
   ]
  },
  {
   "cell_type": "code",
   "execution_count": null,
   "id": "c2b08369-e2d4-4ed1-911b-106fb91a607c",
   "metadata": {},
   "outputs": [],
   "source": [
    "#This is the code for explain the comment in the python\n",
    "a = 10\n",
    "b =25\n",
    "c = a+b\n",
    "# the above code is for the addition of the two number"
   ]
  },
  {
   "cell_type": "markdown",
   "id": "f0c0c8c7-b09c-46a5-9c31-ca9495ac5a32",
   "metadata": {},
   "source": [
    "Types of Comment:  In the python thair are two type of comment which as follows\n",
    "                 1.Single line comment:- \n",
    "                                       In the single line comment we are comment the single line only.we use the # symbol to create a single line comment. we can give the multiple single line comment in the code \n",
    "                2. Multi-line comment:- \n",
    "                                       In the python the multi line comment are used to comment the multiple line of code at once.The triple Single quotes(''') or the triple double quotes (\"\"\") represent the multi line comment. "
   ]
  },
  {
   "cell_type": "markdown",
   "id": "538fc3ff-aab1-4332-bb05-e5e5fb54703f",
   "metadata": {},
   "source": [
    "\n",
    "\n",
    "Question 2"
   ]
  },
  {
   "cell_type": "raw",
   "id": "cddfa216-6101-4479-bc98-399a3e022e9f",
   "metadata": {},
   "source": [
    "Q2. What are variables in Python? How do you declare and assign values to variables?\n",
    "ans- \n",
    "     In Python, variables are used to store data values. They act as containers that hold values of different types, such as numbers, strings, lists, or more complex objects. Variables allow you to manipulate and refer to data throughout your code.\n",
    "To declare and assign a value to a variable in Python, you can use the following syntax:\n",
    "          variable_name = value\n",
    "          \n",
    "     To declare the variable we need to give the name of the variable then assignment oprator and thair respective value. the python variable are dynamic type which means it will get its data type according to its values we does not need to declare the data type of the variable.    \n"
   ]
  },
  {
   "cell_type": "code",
   "execution_count": 4,
   "id": "a6ed8d99-bef2-4c18-861c-1067ab2da28b",
   "metadata": {},
   "outputs": [],
   "source": [
    "# Exaple\n",
    "name = \"ajay\"\n",
    "age = 21\n",
    "\n"
   ]
  },
  {
   "cell_type": "markdown",
   "id": "453f1e2d-36b5-4e7c-b094-0154a83e77a4",
   "metadata": {},
   "source": [
    "Question 3"
   ]
  },
  {
   "cell_type": "raw",
   "id": "44297c15-0db9-4eba-9b4a-8f85eb4c5a41",
   "metadata": {},
   "source": [
    "Q3. How do you convert one data type to another in Python?\n",
    "ans: \n",
    "     In the python if want to convert the one data type value to  another then python provide the built-in fuction according to the data type . for exaple if want to convert into the integer data tpye then the int() fuction will be used similarly for string - str(),float - float(),list- list(),set- set(),dictionary- dict() etc"
   ]
  },
  {
   "cell_type": "code",
   "execution_count": null,
   "id": "e9b37653-a2b4-4e5e-b8e3-e7655221729e",
   "metadata": {},
   "outputs": [],
   "source": []
  },
  {
   "cell_type": "code",
   "execution_count": 5,
   "id": "3497ff2e-ee39-45c7-b5d8-ca90eb8f1184",
   "metadata": {},
   "outputs": [],
   "source": [
    "# Converting a string to an integer\n",
    "age = int(\"25\")\n",
    "\n",
    "# Converting a float to an integer\n",
    "x = int(3.14)\n",
    "\n",
    "# Converting an integer to a float\n",
    "y = float(5)\n",
    "\n",
    "# Converting an integer to a string\n",
    "number = str(123)"
   ]
  },
  {
   "cell_type": "markdown",
   "id": "0e905cf5-a482-4c60-b513-d4abf7d93815",
   "metadata": {},
   "source": [
    "Question 4"
   ]
  },
  {
   "cell_type": "raw",
   "id": "06e0ff45-9fc6-46f7-93ef-2fd9ff17fe43",
   "metadata": {},
   "source": [
    "Q4. How do you write and execute a Python script from the command line?\n",
    "ans- \n",
    "To write and execute a Python script from the command line, you can follow these steps:\n",
    "1.Open a text editor and create a new file. This file will contain your Python code. For example, you can create a file named script.py.\n",
    "2.In the text editor, write your Python code in the file. For example, you can write a simple \"Hello, World!\" program:"
   ]
  },
  {
   "cell_type": "code",
   "execution_count": 6,
   "id": "85b52b53-2f14-4d8c-8dee-4132a3c442ad",
   "metadata": {},
   "outputs": [
    {
     "name": "stdout",
     "output_type": "stream",
     "text": [
      "Hello, World!\n"
     ]
    }
   ],
   "source": [
    "print(\"Hello, World!\")"
   ]
  },
  {
   "cell_type": "raw",
   "id": "438349c5-6e96-4642-9f3d-36bef11b48f6",
   "metadata": {},
   "source": [
    "3.Save the file with a .py extension. In our example, save the file as script.py.\n",
    "4.Open a command prompt or terminal window.\n",
    "5.Navigate to the directory where you saved your Python script using the cd command. For example, if your script is saved in the Documents directory, use the following command\n",
    "                                     cd Documents\n",
    "6.Once you are in the correct directory, you can execute the Python script by typing python followed by the script's filename. For our example, use the following command: \n",
    "                                     python script.py\n",
    "7.Press Enter to run the command. The Python interpreter will execute the script, and you will see the output in the command prompt or terminal:   \n",
    " output :- Hello, World!"
   ]
  },
  {
   "cell_type": "markdown",
   "id": "656dbcc8-4dbe-4e2b-a4ba-1fc43483654e",
   "metadata": {},
   "source": [
    "Question 5"
   ]
  },
  {
   "cell_type": "raw",
   "id": "45809a24-308b-499f-bd20-df8e984d9239",
   "metadata": {},
   "source": [
    "Q5. Given a list my_list = [1, 2, 3, 4, 5], write the code to slice the list and obtain the sub-list [2, 3]."
   ]
  },
  {
   "cell_type": "code",
   "execution_count": 7,
   "id": "59428766-b0a9-4c4d-80a9-10d0b97d97ff",
   "metadata": {},
   "outputs": [
    {
     "data": {
      "text/plain": [
       "[2, 3]"
      ]
     },
     "execution_count": 7,
     "metadata": {},
     "output_type": "execute_result"
    }
   ],
   "source": [
    "my_list = [1, 2, 3, 4, 5]\n",
    "my_list[1:3]"
   ]
  },
  {
   "cell_type": "markdown",
   "id": "25d78ef5-e1aa-4624-ac9b-b6ac534ee08d",
   "metadata": {},
   "source": [
    "Question 6"
   ]
  },
  {
   "cell_type": "raw",
   "id": "01e1904d-ab6f-4efa-93c1-b4c231963b95",
   "metadata": {},
   "source": [
    "Q6. What is a complex number in mathematics, and how is it represented in Python?\n",
    "ans - In mathematics, a complex number is a number that consists of both a real part and an imaginary part. It is represented in the form a + bj, where a represents the real part, b represents the imaginary part.\n",
    "\n",
    "In Python, complex numbers are supported as a built-in data type. They are represented using the syntax a + bj or a + bj, where a and b are floating-point numbers or integers. The j or J after the imaginary part is used to indicate the imaginary unit. Here are a few examples of complex numbers in Python:"
   ]
  },
  {
   "cell_type": "code",
   "execution_count": 8,
   "id": "8481f543-a995-4cb8-9cdd-ac37b49d9b13",
   "metadata": {},
   "outputs": [],
   "source": [
    "# Complex number with real and imaginary parts\n",
    "z1 = 2 + 3j\n",
    "\n",
    "# Complex number with only the imaginary part\n",
    "z2 = 0 + 4j\n",
    "\n",
    "# Complex number with only the real part (no imaginary part)\n",
    "z3 = 5 + 0j"
   ]
  },
  {
   "cell_type": "markdown",
   "id": "bd2b5ba7-1fb1-4dd8-9b2b-ea224114a177",
   "metadata": {},
   "source": [
    "Question 7"
   ]
  },
  {
   "cell_type": "raw",
   "id": "29494cab-0bcb-4b54-b627-e6ad75308b05",
   "metadata": {},
   "source": [
    "Q7. What is the correct way to declare a variable named age and assign the value 25 to it?\n",
    "ans: \n",
    " In Python, the correct way to declare a variable named age and assign the value 25 to it is as follows:"
   ]
  },
  {
   "cell_type": "code",
   "execution_count": 9,
   "id": "8aa7b127-eb48-4abb-a088-50e530868db7",
   "metadata": {},
   "outputs": [],
   "source": [
    "age = 25"
   ]
  },
  {
   "cell_type": "raw",
   "id": "66d86bf9-e416-4b19-ba65-bf6f19c28a26",
   "metadata": {},
   "source": [
    "This line of code declares a variable named age and assigns the value 25 to it. Python is a dynamically-typed language, so you don't need to specify the type of the variable explicitly. The type of the variable age will be inferred based on the value assigned to it"
   ]
  },
  {
   "cell_type": "markdown",
   "id": "c94d4aeb-c6aa-4d80-80fe-11b2990b8477",
   "metadata": {},
   "source": [
    "Question 8"
   ]
  },
  {
   "cell_type": "code",
   "execution_count": null,
   "id": "71586be3-cad9-43fe-978c-6fa73095d92a",
   "metadata": {},
   "outputs": [],
   "source": [
    "Q8. Declare a variable named price and assign the value 9.99 to it. What data type does this variable\n",
    "belong to?\n",
    "ans- "
   ]
  },
  {
   "cell_type": "code",
   "execution_count": 10,
   "id": "884f7229-e022-4ab9-85de-d82431b55cef",
   "metadata": {},
   "outputs": [
    {
     "data": {
      "text/plain": [
       "float"
      ]
     },
     "execution_count": 10,
     "metadata": {},
     "output_type": "execute_result"
    }
   ],
   "source": [
    "price = 9.99\n",
    "type(price)"
   ]
  },
  {
   "cell_type": "raw",
   "id": "dcb1013d-d336-4587-bb84-08fa52d16c6f",
   "metadata": {},
   "source": [
    "The type of above price variable is float"
   ]
  },
  {
   "cell_type": "markdown",
   "id": "4f281c97-b9c6-49e3-a808-0ff743281c6a",
   "metadata": {},
   "source": [
    "Question 9"
   ]
  },
  {
   "cell_type": "raw",
   "id": "7ed9a775-67ff-4313-ba93-c3ef4f755d85",
   "metadata": {},
   "source": [
    "Q9. Create a variable named name and assign your full name to it as a string. How would you print the\n",
    "value of this variable?"
   ]
  },
  {
   "cell_type": "code",
   "execution_count": 11,
   "id": "78250431-0547-4a2c-9bdc-44ad840af1f7",
   "metadata": {},
   "outputs": [
    {
     "name": "stdout",
     "output_type": "stream",
     "text": [
      "Ajay Kailas Ingle\n"
     ]
    }
   ],
   "source": [
    "name = \"Ajay Kailas Ingle\"\n",
    "print(name)"
   ]
  },
  {
   "cell_type": "raw",
   "id": "06b269cd-37a8-4d27-9182-23ce9759976a",
   "metadata": {},
   "source": [
    "we can print the value of the variable using the print function. the print is the built-in function which will be print the value which is \n",
    "is paased as a argument. when we pass the variable as a argument to the print() function it will be print value of the variable"
   ]
  },
  {
   "cell_type": "markdown",
   "id": "4922a3e3-2c78-4538-a942-73185b6d4fd9",
   "metadata": {},
   "source": [
    "Quetion 10"
   ]
  },
  {
   "cell_type": "raw",
   "id": "d516dbb0-4a65-4ba6-a6d7-c8dae54c1ce1",
   "metadata": {},
   "source": [
    "Q10. Given the string \"Hello, World!\", extract the substring \"World\"."
   ]
  },
  {
   "cell_type": "code",
   "execution_count": 15,
   "id": "d482946a-dd55-4aaf-86f8-d79deded46d4",
   "metadata": {},
   "outputs": [
    {
     "data": {
      "text/plain": [
       "'World'"
      ]
     },
     "execution_count": 15,
     "metadata": {},
     "output_type": "execute_result"
    }
   ],
   "source": [
    "str = \"Hellow, World!\"\n",
    "str[8:13]"
   ]
  },
  {
   "cell_type": "markdown",
   "id": "15f2931a-2c16-4a82-9e06-6fe6789189d6",
   "metadata": {},
   "source": [
    "Question 11"
   ]
  },
  {
   "cell_type": "raw",
   "id": "38a9ffaf-cea7-40a8-9651-2d378c1841db",
   "metadata": {},
   "source": [
    "Q11. Create a variable named \"is_student\" and assign it a boolean value indicating whether you are\n",
    "currently a student or not."
   ]
  },
  {
   "cell_type": "code",
   "execution_count": 18,
   "id": "9bd4568c-ce6c-443a-b2e5-81e203ecd5d0",
   "metadata": {},
   "outputs": [
    {
     "data": {
      "text/plain": [
       "True"
      ]
     },
     "execution_count": 18,
     "metadata": {},
     "output_type": "execute_result"
    }
   ],
   "source": [
    "is_student = True\n",
    "is_student"
   ]
  },
  {
   "cell_type": "code",
   "execution_count": null,
   "id": "739865e9-05ad-46c7-b617-58435c433142",
   "metadata": {},
   "outputs": [],
   "source": []
  }
 ],
 "metadata": {
  "kernelspec": {
   "display_name": "Python 3 (ipykernel)",
   "language": "python",
   "name": "python3"
  },
  "language_info": {
   "codemirror_mode": {
    "name": "ipython",
    "version": 3
   },
   "file_extension": ".py",
   "mimetype": "text/x-python",
   "name": "python",
   "nbconvert_exporter": "python",
   "pygments_lexer": "ipython3",
   "version": "3.10.8"
  }
 },
 "nbformat": 4,
 "nbformat_minor": 5
}
