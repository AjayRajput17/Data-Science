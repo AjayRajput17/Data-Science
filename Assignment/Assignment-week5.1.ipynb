{
 "cells": [
  {
   "cell_type": "markdown",
   "id": "757ad459-584a-4cab-8641-97fb2147cb57",
   "metadata": {},
   "source": [
    "Question 1"
   ]
  },
  {
   "cell_type": "markdown",
   "id": "fbfcc23c-1974-458e-9c6d-86135e8a5040",
   "metadata": {},
   "source": [
    "Q1. what is the Exception in python? Write the differance between Exception and Syntax Error"
   ]
  },
  {
   "cell_type": "markdown",
   "id": "d2a6e687-3c98-45c8-a37d-05301b53fa4b",
   "metadata": {},
   "source": [
    "Exception:-\n",
    "          An exception in Python is an error that occurs during the execution of a program,it will cause the normal flow of the program. if the exception is occured and which is not handled then it will raise an error and stop the execution of program at a time where the exception was arise.the exception was arise at runtime due to number of factor likes invalide input or data, unavabality of files, internet connection, IOoperation etc. some of the predifined exception is IOEroor,ZeroDivisionError,FileNotFoundError,TypeError etc and also we can create the user defined exception."
   ]
  },
  {
   "cell_type": "markdown",
   "id": "320b3313-b775-4697-b09d-584cb08c1408",
   "metadata": {},
   "source": [
    "Differance between Exception and Syntax Error"
   ]
  },
  {
   "cell_type": "markdown",
   "id": "1620ab17-895e-431a-9e8c-bb30ab24bd1b",
   "metadata": {},
   "source": [
    "1.Exceptions: Exceptions occur during the runtime of a program and are typically caused by factors like invalid data, resource unavailability, or logical errors. Examples of exceptions include ZeroDivisionError, TypeError, and FileNotFoundError. Exceptions can be handled using try-except blocks to gracefully handle the error condition and provide alternative execution paths."
   ]
  },
  {
   "cell_type": "markdown",
   "id": "e1513c03-fe1c-4f5d-8763-8233679c83aa",
   "metadata": {},
   "source": [
    "2.Syntax Errors: Syntax errors, also known as parsing errors, occur during the parsing or interpretation of the Python code before the program's execution. They indicate that the code violates the language's syntax rules and cannot be executed. Examples of syntax errors include missing colons, incorrect indentation, or using an invalid keyword. Syntax errors need to be fixed before running the program, as they prevent the code from being executed at all."
   ]
  },
  {
   "cell_type": "markdown",
   "id": "027d6e18-b32c-4c33-a427-b0db4ce8c4db",
   "metadata": {},
   "source": [
    "Questin 2"
   ]
  },
  {
   "cell_type": "markdown",
   "id": "fd42dc51-52b8-4f61-bed4-9048b4ae1fb8",
   "metadata": {},
   "source": [
    "Q2. what happen when the Exception is not handled? Exaplin with the program"
   ]
  },
  {
   "cell_type": "markdown",
   "id": "f76282c9-6daf-4ce8-9768-e1c75856e409",
   "metadata": {},
   "source": [
    "If we write the hunderd line of program and if the exception is occured at line 10 and if we not handled the exception then progarm will stop the execution at line 10. above the line 10 the code is not executed this will be arise the big problem.\n",
    " Example:- \n",
    "           in the below program the we wite a six line of code,the first three line will be addition, subtraction and division code and next three line willbe print result of this opration. if any exception is occurse in first three line then as we not handle any exception then the progarm will stop excution and operation result is not printed."
   ]
  },
  {
   "cell_type": "code",
   "execution_count": 1,
   "id": "13629c07-7659-4128-99d4-c2b5bb8707eb",
   "metadata": {},
   "outputs": [
    {
     "ename": "ZeroDivisionError",
     "evalue": "division by zero",
     "output_type": "error",
     "traceback": [
      "\u001b[0;31m---------------------------------------------------------------------------\u001b[0m",
      "\u001b[0;31mZeroDivisionError\u001b[0m                         Traceback (most recent call last)",
      "Cell \u001b[0;32mIn[1], line 3\u001b[0m\n\u001b[1;32m      1\u001b[0m a\u001b[38;5;241m=\u001b[39m \u001b[38;5;241m10\u001b[39m\u001b[38;5;241m+\u001b[39m\u001b[38;5;241m10\u001b[39m\n\u001b[1;32m      2\u001b[0m b \u001b[38;5;241m=\u001b[39m \u001b[38;5;241m10\u001b[39m\u001b[38;5;241m-\u001b[39m\u001b[38;5;241m10\u001b[39m\n\u001b[0;32m----> 3\u001b[0m c \u001b[38;5;241m=\u001b[39m \u001b[38;5;241;43m10\u001b[39;49m\u001b[38;5;241;43m/\u001b[39;49m\u001b[38;5;241;43m0\u001b[39;49m\n\u001b[1;32m      4\u001b[0m \u001b[38;5;28mprint\u001b[39m(a)\n\u001b[1;32m      5\u001b[0m \u001b[38;5;28mprint\u001b[39m(b)\n",
      "\u001b[0;31mZeroDivisionError\u001b[0m: division by zero"
     ]
    }
   ],
   "source": [
    "a= 10+10\n",
    "b = 10-10\n",
    "c = 10/0\n",
    "print(a)\n",
    "print(b)\n",
    "print(c)"
   ]
  },
  {
   "cell_type": "markdown",
   "id": "096e4adc-ac62-4976-b177-ebf1735561f6",
   "metadata": {},
   "source": [
    "Question 3"
   ]
  },
  {
   "cell_type": "markdown",
   "id": "50fcdea3-0410-40c0-806c-00d197e25727",
   "metadata": {},
   "source": [
    "which python statement are used to catch and handle exception? explain with example"
   ]
  },
  {
   "cell_type": "markdown",
   "id": "4886494b-78e0-45a6-ab91-70724d58aed4",
   "metadata": {},
   "source": [
    "In the python we ued the try- except staetement to catch and handle the exception. in the try block we place the code that may cause the exception and if the exception is incountred then this exception will be catch by the except block handle that exception.in the except block we spcify the perticular exception class like TypeError , ValueError or the base Exception class which will handle alltype of exception.in the one try block we can specify multile except block."
   ]
  },
  {
   "cell_type": "code",
   "execution_count": 8,
   "id": "e2dbeb65-5f1c-4446-a5b0-a94458402c41",
   "metadata": {},
   "outputs": [
    {
     "name": "stdout",
     "output_type": "stream",
     "text": [
      "division by zero\n",
      "Addition of 10+2: 12\n"
     ]
    }
   ],
   "source": [
    "try:\n",
    "    n = 10/0\n",
    "    print(n)\n",
    "except ZeroDivisionError as  e:\n",
    "    print(e)\n",
    "a = 10+2\n",
    "print(\"Addition of 10+2:\",a)\n"
   ]
  },
  {
   "cell_type": "markdown",
   "id": "d0d681a6-ef0d-4baa-8dba-3b95e3827b89",
   "metadata": {},
   "source": [
    "In the above example we write a code in try block which will cause an ZeroDivisionError and except block will be catch and handle that code. As we handle the exception the program will not terminated it will continue execution til the end of the program"
   ]
  },
  {
   "cell_type": "markdown",
   "id": "d7988ed6-3f10-4418-86e0-ba3eabe60214",
   "metadata": {},
   "source": [
    "Question 4"
   ]
  },
  {
   "cell_type": "markdown",
   "id": "277fcc71-8c3e-4b63-ba7c-97500e0bb7c1",
   "metadata": {},
   "source": [
    "Q4 Exalain with example \n",
    "1. try and else\n",
    "2. finally\n",
    "3. raise "
   ]
  },
  {
   "cell_type": "markdown",
   "id": "1f47bd52-9703-4b31-acbf-7a1614e94b36",
   "metadata": {},
   "source": [
    "1. try and else:-\n",
    "                  In the try block we will place the code which can be cause the exception or error. if the any error is occured which will be handle using except block.\n",
    "                  In the else block we will write a code which will executed if the try block is executed naturally without any exception or error. if any error  is occured in the try7 block then the else block will be skip (not executed). "
   ]
  },
  {
   "cell_type": "code",
   "execution_count": 15,
   "id": "d23b1c9b-ecc0-4b6b-a5b2-c811c19ed5d6",
   "metadata": {},
   "outputs": [
    {
     "name": "stdout",
     "output_type": "stream",
     "text": [
      "this is the first line \n",
      " this is the second line \n",
      " this is the third linethis is fourth linethis is the fourth line\n",
      "file open and read sucessfully\n"
     ]
    }
   ],
   "source": [
    "#example:\n",
    "try:\n",
    "    f = open(\"test.txt\",\"r\")\n",
    "    print(f.read())\n",
    "    f.close()\n",
    "except FileNotFoundError as e:\n",
    "    print(e)\n",
    "else:\n",
    "    print(\"file open and read sucessfully\")\n",
    "    \n",
    "    \n",
    "    "
   ]
  },
  {
   "cell_type": "markdown",
   "id": "151146c7-52a8-4bc4-961b-50f60fcbb81d",
   "metadata": {},
   "source": [
    "2. finally:- The finally statement is used to define a block of code that always executes, regardless of whether an exception occurred or not. It is commonly used to perform cleanup operations or release resources."
   ]
  },
  {
   "cell_type": "code",
   "execution_count": 16,
   "id": "4504ec09-1267-42b6-ab43-147f403ba770",
   "metadata": {},
   "outputs": [
    {
     "name": "stdout",
     "output_type": "stream",
     "text": [
      "[Errno 2] No such file or directory: 'test2.txt'\n",
      "finally block executed\n"
     ]
    }
   ],
   "source": [
    "# exsample\n",
    "try:\n",
    "    f = open(\"test2.txt\",\"r\")\n",
    "    f.read()\n",
    "    \n",
    "except FileNotFoundError as e:\n",
    "    print(e)\n",
    "else:\n",
    "    print(\"file open and read sucessfully\")\n",
    "\n",
    "finally:\n",
    "    f.close()\n",
    "    print(\"finally block executed\")\n"
   ]
  },
  {
   "cell_type": "markdown",
   "id": "87f543db-877a-449f-8692-3dcee76fae85",
   "metadata": {},
   "source": [
    "3.raise:- he raise statement is used to explicitly raise an exception within the code. It allows you to create and raise your own exceptions, or re-raise exceptions caught in an except block."
   ]
  },
  {
   "cell_type": "code",
   "execution_count": 18,
   "id": "bd22cc33-b6c6-4aae-9e14-424c4a111215",
   "metadata": {},
   "outputs": [
    {
     "name": "stdout",
     "output_type": "stream",
     "text": [
      "file are not found\n",
      "finally block executed\n"
     ]
    }
   ],
   "source": [
    "# exsample\n",
    "try:\n",
    "    f = open(\"test.txt\",\"r\")\n",
    "    f.read()\n",
    "    raise FileNotFoundError(\"file are not found\")\n",
    "except FileNotFoundError as e:\n",
    "    print(e)\n",
    "else:\n",
    "    print(\"file open and read sucessfully\")\n",
    "\n",
    "finally:\n",
    "    f.close()\n",
    "    print(\"finally block executed\")\n"
   ]
  },
  {
   "cell_type": "code",
   "execution_count": null,
   "id": "399ca47a-f7ad-44b3-b4c8-1e6b522a5494",
   "metadata": {},
   "outputs": [],
   "source": []
  },
  {
   "cell_type": "markdown",
   "id": "95302036-5398-4f7f-9e6f-9b95eeb13db6",
   "metadata": {},
   "source": [
    "Question 5"
   ]
  },
  {
   "cell_type": "markdown",
   "id": "f60ec140-959a-408b-84bd-5461ea93fc70",
   "metadata": {},
   "source": [
    "Q5 what are custom Exception in python? why do we need custom Exception? Explain wih an Example"
   ]
  },
  {
   "cell_type": "markdown",
   "id": "1e2aa3f5-a1a4-4224-a199-46f0fd999cea",
   "metadata": {},
   "source": [
    "In Python, custom exceptions are user-defined exceptions that allow you to create and raise your own exception types based on specific conditions or requirements in your code. They provide a way to handle exceptional situations that are not covered by the built-in exception classes.\n",
    "\n",
    "You might need custom exceptions for the following reasons:\n",
    "\n",
    "1.Specific Error Handling: Custom exceptions allow you to create more descriptive and specific error messages tailored to your application's needs. By defining your own exception classes, you can provide more meaningful information about the error that occurred, making it easier to debug and handle exceptions effectively.\n",
    "\n",
    "2.Code Organization: Using custom exceptions helps in organizing your codebase by categorizing different types of exceptions based on their functionality or context. This can make your code more maintainable and readable by clearly indicating the purpose of each exception class.\n",
    "\n",
    "3.Exception Hierarchy: By creating a hierarchy of custom exception classes, you can handle related exceptions at different levels of granularity. This enables you to catch specific exceptions individually and handle them differently while also providing a fallback handling mechanism for more general exceptions.\n",
    "\n",
    "Here's an example that demonstrates the usage of a custom exception in Python:"
   ]
  },
  {
   "cell_type": "code",
   "execution_count": 21,
   "id": "0f051c80-3875-4391-b895-51b313d766be",
   "metadata": {},
   "outputs": [],
   "source": [
    "class IsNotEven(Exception):\n",
    "    \"\"\"Exception is raised for non Even Number\"\"\"\n",
    "    def __init__(self,msg=None):\n",
    "        self.msg = msg\n",
    "\n",
    "def iseven(n):\n",
    "    if n%2 == 0:\n",
    "        print(n,\": is a even number\")\n",
    "    else:\n",
    "        raise IsNotEven(\"number is not even\")\n",
    "   "
   ]
  },
  {
   "cell_type": "code",
   "execution_count": 23,
   "id": "49186334-56e6-472c-9ecb-e092681ee4af",
   "metadata": {},
   "outputs": [
    {
     "name": "stdout",
     "output_type": "stream",
     "text": [
      "number is not even\n",
      "try with another number\n"
     ]
    }
   ],
   "source": [
    "try:\n",
    "    iseven(5)\n",
    "except IsNotEven as e :\n",
    "    print(e)\n",
    "print(\"try with another number\")"
   ]
  },
  {
   "cell_type": "markdown",
   "id": "4e61f949-3032-4e7b-bbb4-4722c9d5111f",
   "metadata": {},
   "source": [
    "Question 6"
   ]
  },
  {
   "cell_type": "markdown",
   "id": "0dbec2f5-9a6b-42d7-b0ab-1ad4b8424487",
   "metadata": {},
   "source": [
    "Q6 create a custom exception class. Use this class to handle an exzception"
   ]
  },
  {
   "cell_type": "code",
   "execution_count": 3,
   "id": "e54378b7-f521-4f0c-a5be-f80e888bda98",
   "metadata": {},
   "outputs": [
    {
     "name": "stdin",
     "output_type": "stream",
     "text": [
      "enter your age 455\n"
     ]
    },
    {
     "name": "stdout",
     "output_type": "stream",
     "text": [
      "Age is so hoigh..\n"
     ]
    }
   ],
   "source": [
    "class validateAge(Exception):\n",
    "    \n",
    "    def __init__(self,msg):\n",
    "        \n",
    "        self.msg = msg\n",
    "\n",
    "\n",
    "def validate_age(age):\n",
    "    \n",
    "    if age > 75 :\n",
    "        raise validateAge(\"Age is so hoigh..\")\n",
    "    elif age < 18:\n",
    "        raise validateAge(\"age is too low\")\n",
    "    else:\n",
    "        print(\"you are eligible\")\n",
    "\n",
    "try:\n",
    "        age = int(input(\"enter your age\"))\n",
    "        validate_age(age)\n",
    "except validateAge as e:\n",
    "    print(e)\n"
   ]
  },
  {
   "cell_type": "code",
   "execution_count": null,
   "id": "d8c7b352-0cc3-49df-b47f-c10cafbc43d5",
   "metadata": {},
   "outputs": [],
   "source": []
  }
 ],
 "metadata": {
  "kernelspec": {
   "display_name": "Python 3 (ipykernel)",
   "language": "python",
   "name": "python3"
  },
  "language_info": {
   "codemirror_mode": {
    "name": "ipython",
    "version": 3
   },
   "file_extension": ".py",
   "mimetype": "text/x-python",
   "name": "python",
   "nbconvert_exporter": "python",
   "pygments_lexer": "ipython3",
   "version": "3.10.8"
  }
 },
 "nbformat": 4,
 "nbformat_minor": 5
}
