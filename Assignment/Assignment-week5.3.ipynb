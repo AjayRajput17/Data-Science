{
 "cells": [
  {
   "cell_type": "markdown",
   "id": "850d1e74-900a-49b0-9b33-8b7026db282a",
   "metadata": {},
   "source": [
    "Questin 1"
   ]
  },
  {
   "cell_type": "markdown",
   "id": "21ac1f98-e364-489a-8983-603a0d8c649a",
   "metadata": {},
   "source": [
    "Q1 what is multithreading in python? why is it used? Name the module used to handle threads in python"
   ]
  },
  {
   "cell_type": "markdown",
   "id": "067c86d8-77df-4b7d-a56c-74f6521a8d04",
   "metadata": {},
   "source": [
    "Multithreading in Python refers to the ability to run multiple threads (smaller units of execution) concurrently within a single program. A thread is a lightweight subprocess that can be executed independently, allowing for concurrent execution of multiple tasks or operations."
   ]
  },
  {
   "cell_type": "markdown",
   "id": "547a1958-6099-4491-b221-c456b2166fcc",
   "metadata": {},
   "source": [
    "Multithreading is used in Python for the following reasons:\n",
    "\n",
    " By utilizing multiple threads, different tasks or operations can be executed concurrently, making the program more responsive and efficient. This is especially beneficial for programs that involve I/O operations or tasks that can run in parallel. Multithreading can enhance the overall performance of a program by taking advantage of available system resources, such as multiple CPU cores. It allows for parallel execution of tasks, enabling faster completion of operations and improved overall throughput.Multithreading helps to maintain the responsiveness of a program, especially in situations where certain tasks may take a long time to complete. By running time-consuming operations in separate threads, the main thread can remain responsive, ensuring a smooth user experience."
   ]
  },
  {
   "cell_type": "markdown",
   "id": "d026abc2-40ea-4d22-a11a-334026a84e88",
   "metadata": {},
   "source": [
    "The primary module used to handle threads in Python is the threading module. It provides high-level functionality for working with threads and simplifies the creation, management, and synchronization of threads in Python programs. The threading module allows you to create and start threads, control their execution, and handle synchronization mechanisms such as locks, events, and condition variables."
   ]
  },
  {
   "cell_type": "markdown",
   "id": "e6cd90bc-5d37-49c3-a9d0-63dd6d0d49c3",
   "metadata": {},
   "source": [
    "Question 2"
   ]
  },
  {
   "cell_type": "markdown",
   "id": "fc895c61-2518-4646-b80c-5dec7dcb3d20",
   "metadata": {},
   "source": [
    "Q2.why threading module used? write the use of the following functions\n",
    "\n",
    " 1.activeCount  \n",
    " 2.currentThread  \n",
    " 3.enumerate"
   ]
  },
  {
   "cell_type": "markdown",
   "id": "ee747abe-1685-4a60-9761-68974a764b50",
   "metadata": {},
   "source": [
    "The threading module in Python is used for creating and managing threads in a program. It provides a high-level interface to work with threads and offers functionalities for concurrent execution, synchronization, and coordination between threads. Some of the commonly used functions in the threading module are:"
   ]
  },
  {
   "cell_type": "markdown",
   "id": "086509c2-f7cd-4174-b8e5-7f9140fab8c2",
   "metadata": {},
   "source": [
    "1.activeCount(): This function returns the number of Thread objects currently alive (i.e., threads that have been created and haven't finished yet)."
   ]
  },
  {
   "cell_type": "code",
   "execution_count": 4,
   "id": "49a8fcaf-3e95-4aef-8897-75116b061beb",
   "metadata": {},
   "outputs": [
    {
     "name": "stdout",
     "output_type": "stream",
     "text": [
      "0\n",
      "1\n",
      "2\n",
      "3\n",
      "4\n",
      "0\n",
      "1\n",
      "2\n",
      "3\n",
      "4\n",
      "Active threads: 8\n"
     ]
    },
    {
     "name": "stderr",
     "output_type": "stream",
     "text": [
      "/tmp/ipykernel_1294/2961991324.py:13: DeprecationWarning: activeCount() is deprecated, use active_count() instead\n",
      "  print(\"Active threads:\", threading.activeCount())\n"
     ]
    }
   ],
   "source": [
    "import threading\n",
    "\n",
    "def print_numbers():\n",
    "    for i in range(5):\n",
    "        print(i)\n",
    "\n",
    "thread1 = threading.Thread(target=print_numbers)\n",
    "thread2 = threading.Thread(target=print_numbers)\n",
    "\n",
    "thread1.start()\n",
    "thread2.start()\n",
    "\n",
    "print(\"Active threads:\", threading.activeCount())\n"
   ]
  },
  {
   "cell_type": "markdown",
   "id": "c6617b23-aa45-41ad-9d5a-5baa8db83a7e",
   "metadata": {},
   "source": [
    "2.enumerate(): This function returns a list of all currently active Thread objects. Each object represents a thread that has been created and hasn't finished yet."
   ]
  },
  {
   "cell_type": "code",
   "execution_count": 5,
   "id": "3f0bf5cf-4d69-4a85-8efa-38b856d48a0c",
   "metadata": {},
   "outputs": [
    {
     "name": "stdout",
     "output_type": "stream",
     "text": [
      "Active threads:\n",
      "MainThread\n",
      "IOPub\n",
      "Heartbeat\n",
      "Thread-3 (_watch_pipe_fd)\n",
      "Thread-4 (_watch_pipe_fd)\n",
      "Control\n",
      "IPythonHistorySavingThread\n",
      "Thread-2\n",
      "Thread-7 (print_current_thread)\n"
     ]
    },
    {
     "name": "stderr",
     "output_type": "stream",
     "text": [
      "/tmp/ipykernel_1294/4266955728.py:7: DeprecationWarning: getName() is deprecated, get the name attribute instead\n",
      "  print(thread.getName())\n"
     ]
    }
   ],
   "source": [
    "import threading\n",
    "\n",
    "def print_current_thread():\n",
    "    thread_list = threading.enumerate()\n",
    "    print(\"Active threads:\")\n",
    "    for thread in thread_list:\n",
    "        print(thread.getName())\n",
    "\n",
    "thread1 = threading.Thread(target=print_current_thread)\n",
    "thread1.start()\n"
   ]
  },
  {
   "cell_type": "markdown",
   "id": "2676b5b8-b29a-45b8-bfa1-59c2cbb59d7b",
   "metadata": {},
   "source": [
    "3.currentThread(): This function returns the currently executing Thread object, representing the thread from which it is called."
   ]
  },
  {
   "cell_type": "code",
   "execution_count": 6,
   "id": "fd41d807-229d-45d0-a242-3affc8d9aa73",
   "metadata": {},
   "outputs": [
    {
     "name": "stdout",
     "output_type": "stream",
     "text": [
      "Current thread: Thread-8 (print_current_thread)\n"
     ]
    },
    {
     "name": "stderr",
     "output_type": "stream",
     "text": [
      "/tmp/ipykernel_1294/3231016918.py:4: DeprecationWarning: currentThread() is deprecated, use current_thread() instead\n",
      "  thread = threading.currentThread()\n",
      "/tmp/ipykernel_1294/3231016918.py:5: DeprecationWarning: getName() is deprecated, get the name attribute instead\n",
      "  print(\"Current thread:\", thread.getName())\n"
     ]
    }
   ],
   "source": [
    "import threading\n",
    "\n",
    "def print_current_thread():\n",
    "    thread = threading.currentThread()\n",
    "    print(\"Current thread:\", thread.getName())\n",
    "\n",
    "thread1 = threading.Thread(target=print_current_thread)\n",
    "thread1.start()\n"
   ]
  },
  {
   "cell_type": "markdown",
   "id": "ee5d1202-766b-4e66-8c48-7a7779f9e61d",
   "metadata": {},
   "source": [
    "Question 3"
   ]
  },
  {
   "cell_type": "markdown",
   "id": "171bdb97-2682-4ded-9fa7-679775215fb0",
   "metadata": {},
   "source": [
    "3. Explain the following functions   \n",
    " 1.run()   \n",
    " 2.start()   \n",
    " 3.join()    \n",
    " 4.isAlive()"
   ]
  },
  {
   "cell_type": "markdown",
   "id": "c10bfd9b-6d74-4a2c-a995-4aabc4e54f5a",
   "metadata": {},
   "source": [
    "1. run() - The run() method is the entry point for thread execution. It defines the behavior of the thread when it is started. By default, the run() method of the Thread class does nothing. However, you can subclass Thread and override the run() method to define the desired behavior for the thread."
   ]
  },
  {
   "cell_type": "markdown",
   "id": "5eddcd9e-57f7-4f73-ab38-6ad00b3f69fc",
   "metadata": {},
   "source": [
    "2.start(): The start() method is used to start the execution of a thread. It initializes the thread and calls its run() method. When start() is called, the thread transitions from the \"created\" state to the \"started\" state, and the run() method is invoked in a separate thread of execution. It is important to note that you should never call the run() method directly; instead, use start() to start the thread."
   ]
  },
  {
   "cell_type": "markdown",
   "id": "f42607d5-8fc7-4fa5-874d-84979f7b7f57",
   "metadata": {},
   "source": [
    "3.join(): The join() method is used to wait for a thread to complete its execution. When join() is called on a thread, the calling thread (usually the main thread) will wait until the specified thread finishes executing. This is useful when you want to ensure that all threads have finished their execution before proceeding with further actions in the program."
   ]
  },
  {
   "cell_type": "markdown",
   "id": "6935d63d-6b0e-4eb5-8b89-70f9dce3b6fa",
   "metadata": {},
   "source": [
    "4.isAlive(): The isAlive() method is used to check whether a thread is currently running or alive. It returns True if the thread is still executing and False otherwise. This can be useful to determine the status of a thread and make decisions based on whether it has finished its execution or is still running."
   ]
  },
  {
   "cell_type": "markdown",
   "id": "3dbb9300-fb6f-4641-b36f-da2576bc0149",
   "metadata": {},
   "source": [
    "Question 4"
   ]
  },
  {
   "cell_type": "markdown",
   "id": "807e31da-39d2-4c5e-8ce4-48ae6f8c4cbd",
   "metadata": {},
   "source": [
    "Q4. write a python program to create two threads. Thread one must print the list of squares and thread\n",
    "two must print the list of cubes"
   ]
  },
  {
   "cell_type": "code",
   "execution_count": 37,
   "id": "e4c9090d-391b-4105-82dc-3aadf49aa2e6",
   "metadata": {},
   "outputs": [
    {
     "name": "stdout",
     "output_type": "stream",
     "text": [
      "square of list:  [1, 4, 9, 16, 25, 36, 49, 64, 81]\n",
      "cube of list:  [1, 8, 27, 64, 125, 216, 343, 512, 729]\n"
     ]
    }
   ],
   "source": [
    "\n",
    "import threading\n",
    "sq_lst = []\n",
    "def square(list):\n",
    "    for i in list:\n",
    "        a = i**2\n",
    "        sq_lst.append(a)\n",
    "    print(\"square of list: \",sq_lst)\n",
    "        \n",
    "    \n",
    "cb_lst = []\n",
    "def cube(list):\n",
    "    for i in list:\n",
    "        a = i**3\n",
    "        cb_lst.append(a)\n",
    "    print(\"cube of list: \",cb_lst)\n",
    "list = [1,2,3,4,5,6,7,8,9]    \n",
    "m1 = threading.Thread(target=square, args=(list,))\n",
    "m2 = threading.Thread(target = cube, args= (list,))\n",
    "\n",
    "m1.start()\n",
    "m2.start()\n",
    "m1.join()\n",
    "m2.join()\n"
   ]
  },
  {
   "cell_type": "markdown",
   "id": "8496c0ab-ed59-45f7-a6b7-1b4cfdc29fb4",
   "metadata": {},
   "source": [
    "Question 5"
   ]
  },
  {
   "cell_type": "markdown",
   "id": "2b205645-3b1e-4d2a-b23e-f6d3ee75eae1",
   "metadata": {},
   "source": [
    "Q5. State advantages and disadvantages of multithreading"
   ]
  },
  {
   "cell_type": "markdown",
   "id": "3a123476-e812-48d6-83c6-47091fbc38fc",
   "metadata": {},
   "source": [
    "Advantages of Multithreading:\n",
    "\n",
    "Increased Efficiency: Multithreading allows for the concurrent execution of multiple threads within a program, utilizing available system resources more efficiently. It can improve the overall performance and responsiveness of the application, especially in scenarios where tasks can run independently or in parallel.\n",
    "\n",
    "Enhanced Responsiveness: Multithreading keeps the program responsive even during time-consuming operations. By offloading lengthy tasks to separate threads, the main thread remains available to respond to user input or handle other critical operations.\n",
    "\n",
    "Resource Sharing: Threads within the same process can easily share data and resources. This facilitates efficient communication and collaboration between threads, eliminating the need for complex inter-process communication mechanisms.\n",
    "\n",
    "Simplified Design: Multithreading allows for the decomposition of complex tasks into smaller, manageable threads. This can lead to cleaner and more modular code design, as different threads can focus on specific aspects of the program's functionality."
   ]
  },
  {
   "cell_type": "markdown",
   "id": "6f7f0816-5c89-416a-a824-ab15747d0b61",
   "metadata": {},
   "source": [
    "Disadvantages of Multithreading:\n",
    "\n",
    "Complexity: Multithreaded programming introduces additional complexity due to concurrent execution, shared resources, and potential race conditions. Proper synchronization and coordination mechanisms, such as locks or semaphores, are necessary to ensure thread safety and prevent issues like data corruption or deadlocks.\n",
    "\n",
    "Debugging Challenges: Debugging multithreaded programs can be challenging. Concurrent execution can introduce non-deterministic behavior and race conditions, making it difficult to reproduce and identify the root cause of issues.\n",
    "\n",
    "Increased Overhead: Managing multiple threads incurs overhead in terms of memory and CPU resources. Thread creation, synchronization, and context switching all require additional system resources, which can impact the overall performance of the application.\n",
    "\n",
    "Scalability Limitations: While multithreading can improve performance on systems with multiple CPU cores, there can be limitations to its scalability. Certain types of tasks, like those involving heavy I/O operations or serialized computations, may not benefit significantly from multithreading due to inherent bottlenecks."
   ]
  },
  {
   "cell_type": "markdown",
   "id": "3650948d-6e80-49ff-9f83-1394c72d8cff",
   "metadata": {},
   "source": [
    "Question 6"
   ]
  },
  {
   "cell_type": "markdown",
   "id": "df390373-1594-452f-a935-feea11a17a6b",
   "metadata": {},
   "source": [
    "Q6. Explain deadlocks and race conditions."
   ]
  },
  {
   "cell_type": "markdown",
   "id": "cf12140d-f1bd-4c2e-94c8-37b6c2b368c5",
   "metadata": {},
   "source": [
    "Deadlocks and race conditions are two common issues that can arise in multithreaded programming:\n",
    "\n",
    "Deadlocks:\n",
    "A deadlock occurs when two or more threads are blocked indefinitely, waiting for each other to release resources that they hold. This situation arises due to a circular dependency among threads and resources they require. Deadlocks prevent the involved threads from making progress and can lead to program freezing or becoming unresponsive."
   ]
  },
  {
   "cell_type": "markdown",
   "id": "3fb96369-8288-4ca7-8c3a-6f38c7de9eb8",
   "metadata": {},
   "source": [
    "Race Conditions:\n",
    "A race condition occurs when the behavior of a program depends on the interleaving or scheduling of operations among multiple threads, leading to unpredictable or incorrect results. Race conditions occur when multiple threads access shared data or resources concurrently, and the final outcome is dependent on the relative timing and order of their operations."
   ]
  },
  {
   "cell_type": "code",
   "execution_count": null,
   "id": "48a4b042-22b7-493f-b157-d1be8e5f7d9b",
   "metadata": {},
   "outputs": [],
   "source": []
  }
 ],
 "metadata": {
  "kernelspec": {
   "display_name": "Python 3 (ipykernel)",
   "language": "python",
   "name": "python3"
  },
  "language_info": {
   "codemirror_mode": {
    "name": "ipython",
    "version": 3
   },
   "file_extension": ".py",
   "mimetype": "text/x-python",
   "name": "python",
   "nbconvert_exporter": "python",
   "pygments_lexer": "ipython3",
   "version": "3.10.8"
  }
 },
 "nbformat": 4,
 "nbformat_minor": 5
}
