{
 "cells": [
  {
   "cell_type": "markdown",
   "id": "e726fc28-e968-4d75-bd6e-40576476f451",
   "metadata": {},
   "source": [
    "# Question 1"
   ]
  },
  {
   "cell_type": "markdown",
   "id": "3a498c0f-dbb9-4ef4-ae3c-c370c9661ab4",
   "metadata": {},
   "source": [
    "Q1. What is Flask Framework? What are the advantages of Flask Framework?"
   ]
  },
  {
   "cell_type": "markdown",
   "id": "e928715d-1d80-4192-b92c-ead81b40ca0e",
   "metadata": {},
   "source": [
    "Flask is a lightweight and popular Python web framework that allows developers to build web applications quickly and with ease. It is considered a microframework because it provides only the essential features needed for web development, keeping it simple and easy to understand.\n",
    "\n",
    "Advantages of Flask Framework:\n",
    "\n",
    "1. Simplicity: Flask follows a minimalistic approach, providing a straightforward and easy-to-understand structure. It has a small core with modular extensions, allowing developers to choose and add only the components they need. This simplicity makes Flask a great choice for small to medium-sized projects or prototypes.\n",
    "\n",
    "2. Lightweight and Flexible: Flask is designed to be lightweight, which means it has a small codebase and a low overhead. It doesn't impose a rigid structure, allowing developers the freedom to design and organize their applications as they see fit. This flexibility enables customizations and integrations with other libraries and tools.\n",
    "\n",
    "3. Easy to Get Started: Flask has a gentle learning curve, making it accessible for beginners. Its simple syntax and extensive documentation provide a smooth learning experience. With a few lines of code, developers can set up a basic Flask application and start building web functionality right away.\n",
    "\n",
    "4. Extensibility: Flask offers a wide range of extensions that can be easily integrated to add additional functionality. These extensions cover areas such as database integration, authentication, testing, form handling, and more. The Flask ecosystem provides a variety of third-party extensions created by the community, making it easy to enhance and extend the capabilities of your Flask applications.\n",
    "\n",
    "5. Integration: Flask integrates well with other libraries and tools in the Python ecosystem, allowing developers to leverage the vast range of available resources. It can work with popular libraries like SQLAlchemy for database management, Jinja2 for templating, and Werkzeug for WSGI (Web Server Gateway Interface) handling.\n",
    "\n",
    "6. Testing and Debugging: Flask provides built-in support for testing, making it easier to write and execute tests for your application. It also includes a built-in development server and a powerful debugger that aids in identifying and fixing issues during the development process.\n",
    "\n",
    "7. Scalability: While Flask is often associated with smaller projects, it is still capable of scaling to handle larger applications. With the right architectural choices and extension integrations, Flask can handle increased complexity and traffic as your application grows."
   ]
  },
  {
   "cell_type": "markdown",
   "id": "bb46ac2c-e525-443c-8ef9-f7728ee98ef1",
   "metadata": {},
   "source": [
    "# Question 2"
   ]
  },
  {
   "cell_type": "markdown",
   "id": "73c81f36-0edc-409d-8629-83a942759aa8",
   "metadata": {},
   "source": [
    "Q2. Create a simple Flask application to display ‘Hello World!!’. Attach the screenshot of the output in\n",
    "Jupyter Notebook."
   ]
  },
  {
   "cell_type": "code",
   "execution_count": null,
   "id": "a76d00d8-af9a-4315-b396-3e028ea7e75d",
   "metadata": {},
   "outputs": [],
   "source": [
    "from flask import Flask\n",
    "\n",
    "app = Flask(__name__)\n",
    "\n",
    "@app.route(\"/\")\n",
    "def sample():\n",
    "    return(\"<h1>‘Hello World!!</h1>\")\n",
    "\n",
    "\n",
    "if __name__ == '__main__':\n",
    "    app.run(host=\"0.0.0.0\")"
   ]
  },
  {
   "cell_type": "markdown",
   "id": "a7675f3f-cd74-438e-bc73-94db25ded05f",
   "metadata": {},
   "source": []
  }
 ],
 "metadata": {
  "kernelspec": {
   "display_name": "Python 3 (ipykernel)",
   "language": "python",
   "name": "python3"
  },
  "language_info": {
   "codemirror_mode": {
    "name": "ipython",
    "version": 3
   },
   "file_extension": ".py",
   "mimetype": "text/x-python",
   "name": "python",
   "nbconvert_exporter": "python",
   "pygments_lexer": "ipython3",
   "version": "3.10.8"
  }
 },
 "nbformat": 4,
 "nbformat_minor": 5
}
