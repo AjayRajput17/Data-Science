{
 "cells": [
  {
   "cell_type": "markdown",
   "id": "e8408c03-2e59-4640-8520-a048f379c0ce",
   "metadata": {},
   "source": [
    "# Q1 Create a Pandas Series that contains the following data: 4, 8, 15, 16, 23, and 42. Then, print the series."
   ]
  },
  {
   "cell_type": "code",
   "execution_count": 2,
   "id": "d1ba31d2-de30-4e8a-a242-f40e77221051",
   "metadata": {},
   "outputs": [],
   "source": [
    "import pandas as pd"
   ]
  },
  {
   "cell_type": "code",
   "execution_count": 3,
   "id": "9ef65c84-61fa-49ed-871d-1cf6d7cdd197",
   "metadata": {},
   "outputs": [
    {
     "name": "stdout",
     "output_type": "stream",
     "text": [
      "0     4\n",
      "1     8\n",
      "2    15\n",
      "3    16\n",
      "4    23\n",
      "5    42\n",
      "dtype: int64\n"
     ]
    }
   ],
   "source": [
    "#create a pandas series\n",
    "data = [4,8,15,16,23,42]\n",
    "series = pd.Series(data)\n",
    "print(series)"
   ]
  },
  {
   "cell_type": "markdown",
   "id": "4dc5934c-58c3-4ebe-aaae-6bebac9f09eb",
   "metadata": {},
   "source": [
    "The pandas series is one-diamensional labeled array capable of holding data of any type.it is similar to a one diamensional array but with added feature of indexing"
   ]
  },
  {
   "cell_type": "markdown",
   "id": "283a424c-c88f-429d-a25e-ea709c5713b7",
   "metadata": {},
   "source": [
    "# Q2  Create a pandas dataframe that containe give data"
   ]
  },
  {
   "cell_type": "code",
   "execution_count": 4,
   "id": "686c4373-634d-425f-8ce8-8f042aeda460",
   "metadata": {},
   "outputs": [
    {
     "name": "stdout",
     "output_type": "stream",
     "text": [
      "     Name  Age  Gender\n",
      "0   Alice   25  Female\n",
      "1     Bob   30    Male\n",
      "2  Claire   27  Female\n"
     ]
    }
   ],
   "source": [
    "import pandas as pd\n",
    "\n",
    "# Create a list of dictionaries\n",
    "data = [\n",
    "    {\"Name\": \"Alice\", \"Age\":25, \"Gender\":\"Female\"},\n",
    "    {\"Name\": \"Bob\" ,  \"Age\": 30, \"Gender\": \"Male\"},\n",
    "    {\"Name\": \"Claire\", \"Age\": 27, \"Gender\": \"Female\"}\n",
    "]\n",
    "\n",
    "#creating dataframe\n",
    "df = pd.DataFrame(data)\n",
    "\n",
    "#print dataFrame\n",
    "print(df)"
   ]
  },
  {
   "cell_type": "markdown",
   "id": "33714efe-a496-4e87-98bb-3f9ef6496e30",
   "metadata": {},
   "source": [
    "Pandas dataframe are powerful tabular structure similar to spreadsheet. they allow you to store and manipulate data with labeled row and columns\n",
    "We can create Dataframe using list of list , where each inner list represents a row.\n",
    "the first list element become the column names"
   ]
  },
  {
   "cell_type": "code",
   "execution_count": 5,
   "id": "4c1d3751-2c63-4e34-8602-b609579504dd",
   "metadata": {},
   "outputs": [
    {
     "name": "stdout",
     "output_type": "stream",
     "text": [
      "       0    1            2\n",
      "0   Name  Age         City\n",
      "1  Alice   25     New York\n",
      "2    Bob   30  Los Angeles\n"
     ]
    }
   ],
   "source": [
    "import pandas as pd\n",
    "\n",
    "data = [['Name', 'Age', 'City'], ['Alice', 25, 'New York'], ['Bob', 30, 'Los Angeles']]\n",
    "df = pd.DataFrame(data)\n",
    "print(df)\n"
   ]
  },
  {
   "cell_type": "markdown",
   "id": "151f5523-8f68-441e-88ed-bf4ad2952ce3",
   "metadata": {},
   "source": [
    "# Q4. What is ‘DataFrame’ in pandas and how is it different from pandas.series? Explain with an example."
   ]
  },
  {
   "cell_type": "markdown",
   "id": "6c1f44d5-3570-4bbb-8947-1a1f33a86caf",
   "metadata": {},
   "source": [
    "In Pandas, a DataFrame is a two-dimensional, size-mutable, and heterogeneous tabular data structure with labeled axes (rows and columns). It is similar to a spreadsheet or a SQL table, where each column can have a different data type. You can think of a DataFrame as a collection of Pandas Series where each Series represents a column."
   ]
  },
  {
   "cell_type": "markdown",
   "id": "d5c7df16-832c-461a-b348-3c494a1d6f97",
   "metadata": {},
   "source": [
    "### Differences Between DataFrame and Series:"
   ]
  },
  {
   "cell_type": "markdown",
   "id": "5a01c174-836c-460e-9262-cefbc0d0c051",
   "metadata": {},
   "source": [
    "Dimensionality:\n",
    "Series: One-dimensional labeled array capable of holding data of any type.\n",
    "\n",
    "DataFrame: Two-dimensional labeled data structure, similar to a table or spreadsheet with rows and columns."
   ]
  },
  {
   "cell_type": "markdown",
   "id": "32a4b01b-27bb-4743-af08-78ac0f7bb78a",
   "metadata": {},
   "source": [
    "Usage:\n",
    "\n",
    "Series: Typically used to represent a single column or row of data.\n",
    "DataFrame: Used to represent multiple columns of tabular data, where each column can be a different data type."
   ]
  },
  {
   "cell_type": "markdown",
   "id": "5fce2c22-8370-4a43-8851-54199b1a4b20",
   "metadata": {},
   "source": [
    "Creation:\n",
    "\n",
    "Series: Created by passing a list, array, or dictionary to pd.Series().\n",
    "DataFrame: Created by passing a dictionary, a list of lists, a list of Series, or a NumPy array to pd.DataFrame()"
   ]
  },
  {
   "cell_type": "markdown",
   "id": "d7ecbc86-9d0e-4164-a2c1-f2fd0e591e27",
   "metadata": {},
   "source": [
    "Indexing:\n",
    "\n",
    "Series: Has only one index, which is used to access its elements.\n",
    "DataFrame: Has both row and column indices, so you can access elements using both row and column labels."
   ]
  },
  {
   "cell_type": "code",
   "execution_count": 6,
   "id": "f4f72b34-3483-4b2f-8ec3-a1eacfcd0505",
   "metadata": {},
   "outputs": [],
   "source": [
    "# Dataframe Example"
   ]
  },
  {
   "cell_type": "code",
   "execution_count": 7,
   "id": "8d4a3a02-1b21-4377-96ef-fb0bb6dd04a5",
   "metadata": {},
   "outputs": [
    {
     "name": "stdout",
     "output_type": "stream",
     "text": [
      "      Name  Age  Gender\n",
      "0    Alice   25  Female\n",
      "1      Bob   30    Male\n",
      "2  Charlie   35    Male\n"
     ]
    }
   ],
   "source": [
    "import pandas as pd\n",
    "\n",
    "# Creating a dictionary of data\n",
    "data = {\n",
    "    'Name': ['Alice', 'Bob', 'Charlie'],\n",
    "    'Age': [25, 30, 35],\n",
    "    'Gender': ['Female', 'Male', 'Male']\n",
    "}\n",
    "\n",
    "# Creating a DataFrame\n",
    "df = pd.DataFrame(data)\n",
    "\n",
    "# Printing the DataFrame\n",
    "print(df)\n"
   ]
  },
  {
   "cell_type": "code",
   "execution_count": 8,
   "id": "e7afb66a-221c-4857-933d-42366ca8a348",
   "metadata": {},
   "outputs": [],
   "source": [
    "#  Series Example"
   ]
  },
  {
   "cell_type": "code",
   "execution_count": 9,
   "id": "c5b827b7-b92d-4241-96dc-10530ce0f1ee",
   "metadata": {},
   "outputs": [
    {
     "name": "stdout",
     "output_type": "stream",
     "text": [
      "0    10\n",
      "1    20\n",
      "2    30\n",
      "3    40\n",
      "4    50\n",
      "dtype: int64\n"
     ]
    }
   ],
   "source": [
    "import pandas as pd\n",
    "\n",
    "# Creating a Series from a list\n",
    "data = [10, 20, 30, 40, 50]\n",
    "s = pd.Series(data)\n",
    "\n",
    "# Printing the Series\n",
    "print(s)\n"
   ]
  },
  {
   "cell_type": "markdown",
   "id": "948630d4-293c-4d4f-8c43-97598fd8aff4",
   "metadata": {},
   "source": [
    "# Q5. What are some common functions you can use to manipulate data in a Pandas DataFrame? Canyou give an example of when you might use one of these functions?"
   ]
  },
  {
   "cell_type": "markdown",
   "id": "a7ffe62b-0c34-4841-83dc-8a15212b01c4",
   "metadata": {},
   "source": [
    "Pandas provides a wide range of functions and methods to manipulate and work with data in a DataFrame"
   ]
  },
  {
   "cell_type": "markdown",
   "id": "b010efa1-55ef-4eb3-8d54-c93a482424cb",
   "metadata": {},
   "source": [
    "head() and tail():\n",
    "\n",
    "These functions allow you to view the first or last n rows of your DataFrame.\n",
    "Example:"
   ]
  },
  {
   "cell_type": "code",
   "execution_count": 10,
   "id": "00a400a7-807d-4f83-82b4-98ff68a4addb",
   "metadata": {},
   "outputs": [],
   "source": [
    "import pandas as pd\n",
    "df = pd.read_csv(\"service.csv\")"
   ]
  },
  {
   "cell_type": "code",
   "execution_count": 12,
   "id": "d4b7142f-2f29-42df-babd-83809ee80316",
   "metadata": {},
   "outputs": [
    {
     "name": "stdout",
     "output_type": "stream",
     "text": [
      "         id diagnosis  radius_mean  texture_mean  perimeter_mean  area_mean  \\\n",
      "0    842302         M        17.99         10.38          122.80     1001.0   \n",
      "1    842517         M        20.57         17.77          132.90     1326.0   \n",
      "2  84300903         M        19.69         21.25          130.00     1203.0   \n",
      "3  84348301         M        11.42         20.38           77.58      386.1   \n",
      "4  84358402         M        20.29         14.34          135.10     1297.0   \n",
      "\n",
      "   smoothness_mean  compactness_mean  concavity_mean  concave points_mean  \\\n",
      "0          0.11840           0.27760          0.3001              0.14710   \n",
      "1          0.08474           0.07864          0.0869              0.07017   \n",
      "2          0.10960           0.15990          0.1974              0.12790   \n",
      "3          0.14250           0.28390          0.2414              0.10520   \n",
      "4          0.10030           0.13280          0.1980              0.10430   \n",
      "\n",
      "   ...  texture_worst  perimeter_worst  area_worst  smoothness_worst  \\\n",
      "0  ...          17.33           184.60      2019.0            0.1622   \n",
      "1  ...          23.41           158.80      1956.0            0.1238   \n",
      "2  ...          25.53           152.50      1709.0            0.1444   \n",
      "3  ...          26.50            98.87       567.7            0.2098   \n",
      "4  ...          16.67           152.20      1575.0            0.1374   \n",
      "\n",
      "   compactness_worst  concavity_worst  concave points_worst  symmetry_worst  \\\n",
      "0             0.6656           0.7119                0.2654          0.4601   \n",
      "1             0.1866           0.2416                0.1860          0.2750   \n",
      "2             0.4245           0.4504                0.2430          0.3613   \n",
      "3             0.8663           0.6869                0.2575          0.6638   \n",
      "4             0.2050           0.4000                0.1625          0.2364   \n",
      "\n",
      "   fractal_dimension_worst  Unnamed: 32  \n",
      "0                  0.11890          NaN  \n",
      "1                  0.08902          NaN  \n",
      "2                  0.08758          NaN  \n",
      "3                  0.17300          NaN  \n",
      "4                  0.07678          NaN  \n",
      "\n",
      "[5 rows x 33 columns]\n"
     ]
    }
   ],
   "source": [
    "print(df.head(5))"
   ]
  },
  {
   "cell_type": "code",
   "execution_count": 13,
   "id": "825a7dec-120b-4f1d-9b1b-fe99329a7735",
   "metadata": {},
   "outputs": [
    {
     "name": "stdout",
     "output_type": "stream",
     "text": [
      "         id diagnosis  radius_mean  texture_mean  perimeter_mean  area_mean  \\\n",
      "566  926954         M        16.60         28.08          108.30      858.1   \n",
      "567  927241         M        20.60         29.33          140.10     1265.0   \n",
      "568   92751         B         7.76         24.54           47.92      181.0   \n",
      "\n",
      "     smoothness_mean  compactness_mean  concavity_mean  concave points_mean  \\\n",
      "566          0.08455           0.10230         0.09251              0.05302   \n",
      "567          0.11780           0.27700         0.35140              0.15200   \n",
      "568          0.05263           0.04362         0.00000              0.00000   \n",
      "\n",
      "     ...  texture_worst  perimeter_worst  area_worst  smoothness_worst  \\\n",
      "566  ...          34.12           126.70      1124.0           0.11390   \n",
      "567  ...          39.42           184.60      1821.0           0.16500   \n",
      "568  ...          30.37            59.16       268.6           0.08996   \n",
      "\n",
      "     compactness_worst  concavity_worst  concave points_worst  symmetry_worst  \\\n",
      "566            0.30940           0.3403                0.1418          0.2218   \n",
      "567            0.86810           0.9387                0.2650          0.4087   \n",
      "568            0.06444           0.0000                0.0000          0.2871   \n",
      "\n",
      "     fractal_dimension_worst  Unnamed: 32  \n",
      "566                  0.07820          NaN  \n",
      "567                  0.12400          NaN  \n",
      "568                  0.07039          NaN  \n",
      "\n",
      "[3 rows x 33 columns]\n"
     ]
    }
   ],
   "source": [
    "print(df.tail(3))"
   ]
  },
  {
   "cell_type": "code",
   "execution_count": 14,
   "id": "64bc7570-62ba-402a-a9e4-eb8388c7d140",
   "metadata": {},
   "outputs": [
    {
     "name": "stdout",
     "output_type": "stream",
     "text": [
      "<class 'pandas.core.frame.DataFrame'>\n",
      "RangeIndex: 569 entries, 0 to 568\n",
      "Data columns (total 33 columns):\n",
      " #   Column                   Non-Null Count  Dtype  \n",
      "---  ------                   --------------  -----  \n",
      " 0   id                       569 non-null    int64  \n",
      " 1   diagnosis                569 non-null    object \n",
      " 2   radius_mean              569 non-null    float64\n",
      " 3   texture_mean             569 non-null    float64\n",
      " 4   perimeter_mean           569 non-null    float64\n",
      " 5   area_mean                569 non-null    float64\n",
      " 6   smoothness_mean          569 non-null    float64\n",
      " 7   compactness_mean         569 non-null    float64\n",
      " 8   concavity_mean           569 non-null    float64\n",
      " 9   concave points_mean      569 non-null    float64\n",
      " 10  symmetry_mean            569 non-null    float64\n",
      " 11  fractal_dimension_mean   569 non-null    float64\n",
      " 12  radius_se                569 non-null    float64\n",
      " 13  texture_se               569 non-null    float64\n",
      " 14  perimeter_se             569 non-null    float64\n",
      " 15  area_se                  569 non-null    float64\n",
      " 16  smoothness_se            569 non-null    float64\n",
      " 17  compactness_se           569 non-null    float64\n",
      " 18  concavity_se             569 non-null    float64\n",
      " 19  concave points_se        569 non-null    float64\n",
      " 20  symmetry_se              569 non-null    float64\n",
      " 21  fractal_dimension_se     569 non-null    float64\n",
      " 22  radius_worst             569 non-null    float64\n",
      " 23  texture_worst            569 non-null    float64\n",
      " 24  perimeter_worst          569 non-null    float64\n",
      " 25  area_worst               569 non-null    float64\n",
      " 26  smoothness_worst         569 non-null    float64\n",
      " 27  compactness_worst        569 non-null    float64\n",
      " 28  concavity_worst          569 non-null    float64\n",
      " 29  concave points_worst     569 non-null    float64\n",
      " 30  symmetry_worst           569 non-null    float64\n",
      " 31  fractal_dimension_worst  569 non-null    float64\n",
      " 32  Unnamed: 32              0 non-null      float64\n",
      "dtypes: float64(31), int64(1), object(1)\n",
      "memory usage: 146.8+ KB\n",
      "None\n"
     ]
    }
   ],
   "source": [
    "# Get information about the DataFrame\n",
    "# info():\n",
    "\n",
    "# Provides a concise summary of the DataFrame including its columns, data types, \n",
    "# and memory usage.\n",
    "print(df.info())\n"
   ]
  },
  {
   "cell_type": "code",
   "execution_count": 15,
   "id": "d215cc9c-decc-4626-931c-446479379799",
   "metadata": {},
   "outputs": [
    {
     "name": "stdout",
     "output_type": "stream",
     "text": [
      "                 id  radius_mean  texture_mean  perimeter_mean    area_mean  \\\n",
      "count  5.690000e+02   569.000000    569.000000      569.000000   569.000000   \n",
      "mean   3.037183e+07    14.127292     19.289649       91.969033   654.889104   \n",
      "std    1.250206e+08     3.524049      4.301036       24.298981   351.914129   \n",
      "min    8.670000e+03     6.981000      9.710000       43.790000   143.500000   \n",
      "25%    8.692180e+05    11.700000     16.170000       75.170000   420.300000   \n",
      "50%    9.060240e+05    13.370000     18.840000       86.240000   551.100000   \n",
      "75%    8.813129e+06    15.780000     21.800000      104.100000   782.700000   \n",
      "max    9.113205e+08    28.110000     39.280000      188.500000  2501.000000   \n",
      "\n",
      "       smoothness_mean  compactness_mean  concavity_mean  concave points_mean  \\\n",
      "count       569.000000        569.000000      569.000000           569.000000   \n",
      "mean          0.096360          0.104341        0.088799             0.048919   \n",
      "std           0.014064          0.052813        0.079720             0.038803   \n",
      "min           0.052630          0.019380        0.000000             0.000000   \n",
      "25%           0.086370          0.064920        0.029560             0.020310   \n",
      "50%           0.095870          0.092630        0.061540             0.033500   \n",
      "75%           0.105300          0.130400        0.130700             0.074000   \n",
      "max           0.163400          0.345400        0.426800             0.201200   \n",
      "\n",
      "       symmetry_mean  ...  texture_worst  perimeter_worst   area_worst  \\\n",
      "count     569.000000  ...     569.000000       569.000000   569.000000   \n",
      "mean        0.181162  ...      25.677223       107.261213   880.583128   \n",
      "std         0.027414  ...       6.146258        33.602542   569.356993   \n",
      "min         0.106000  ...      12.020000        50.410000   185.200000   \n",
      "25%         0.161900  ...      21.080000        84.110000   515.300000   \n",
      "50%         0.179200  ...      25.410000        97.660000   686.500000   \n",
      "75%         0.195700  ...      29.720000       125.400000  1084.000000   \n",
      "max         0.304000  ...      49.540000       251.200000  4254.000000   \n",
      "\n",
      "       smoothness_worst  compactness_worst  concavity_worst  \\\n",
      "count        569.000000         569.000000       569.000000   \n",
      "mean           0.132369           0.254265         0.272188   \n",
      "std            0.022832           0.157336         0.208624   \n",
      "min            0.071170           0.027290         0.000000   \n",
      "25%            0.116600           0.147200         0.114500   \n",
      "50%            0.131300           0.211900         0.226700   \n",
      "75%            0.146000           0.339100         0.382900   \n",
      "max            0.222600           1.058000         1.252000   \n",
      "\n",
      "       concave points_worst  symmetry_worst  fractal_dimension_worst  \\\n",
      "count            569.000000      569.000000               569.000000   \n",
      "mean               0.114606        0.290076                 0.083946   \n",
      "std                0.065732        0.061867                 0.018061   \n",
      "min                0.000000        0.156500                 0.055040   \n",
      "25%                0.064930        0.250400                 0.071460   \n",
      "50%                0.099930        0.282200                 0.080040   \n",
      "75%                0.161400        0.317900                 0.092080   \n",
      "max                0.291000        0.663800                 0.207500   \n",
      "\n",
      "       Unnamed: 32  \n",
      "count          0.0  \n",
      "mean           NaN  \n",
      "std            NaN  \n",
      "min            NaN  \n",
      "25%            NaN  \n",
      "50%            NaN  \n",
      "75%            NaN  \n",
      "max            NaN  \n",
      "\n",
      "[8 rows x 32 columns]\n"
     ]
    }
   ],
   "source": [
    "# describe():\n",
    "\n",
    "# Generates descriptive statistics that summarize the central tendency, dispersion, \n",
    "#  and shape of a dataset's distribution.\n",
    "print(df.describe())"
   ]
  },
  {
   "cell_type": "markdown",
   "id": "1ba87ab2-96e6-4d57-991c-4ed01b20d19c",
   "metadata": {},
   "source": [
    "# Q6. Which of the following is mutable in nature Series, DataFrame, Panel?"
   ]
  },
  {
   "cell_type": "markdown",
   "id": "a1857a8c-5999-431e-939e-c63e16058409",
   "metadata": {},
   "source": [
    "Series:\n",
    "\n",
    "A Series is mutable, meaning you can modify its elements after it has been created. You can change the values, add new elements, or remove existing ones.\n",
    "Example of modifying a Series:"
   ]
  },
  {
   "cell_type": "code",
   "execution_count": 17,
   "id": "e5b93f6b-06b6-451f-9e0d-f5a3edf603e3",
   "metadata": {},
   "outputs": [],
   "source": [
    "import pandas as pd\n",
    "\n",
    "# Creating a Series\n",
    "s = pd.Series([1, 2, 3, 4])\n",
    "\n",
    "# Modifying a value\n",
    "s[2] = 10\n",
    "\n",
    "# Adding a new value\n",
    "s[4] = 20\n",
    "\n",
    "# Removing an element\n",
    "s = s.drop(1)\n"
   ]
  },
  {
   "cell_type": "markdown",
   "id": "0e9d9d41-d479-4342-adbc-0ad1a89b528f",
   "metadata": {},
   "source": [
    "DataFrame:\n",
    "\n",
    "A DataFrame is also mutable. You can modify its columns, add new columns, remove columns, and change values within the DataFrame.\n",
    "Example of modifying a DataFrame:"
   ]
  },
  {
   "cell_type": "code",
   "execution_count": 18,
   "id": "de8acb26-a7d8-465e-a4af-f8b19415621f",
   "metadata": {},
   "outputs": [],
   "source": [
    "import pandas as pd\n",
    "\n",
    "# Creating a DataFrame\n",
    "df = pd.DataFrame({\n",
    "    'Name': ['Alice', 'Bob', 'Charlie'],\n",
    "    'Age': [25, 30, 35],\n",
    "    'Gender': ['Female', 'Male', 'Male']\n",
    "})\n",
    "\n",
    "# Modifying a value\n",
    "df.at[1, 'Age'] = 32\n",
    "\n",
    "# Adding a new column\n",
    "df['Location'] = ['New York', 'Los Angeles', 'Chicago']\n",
    "\n",
    "# Removing a column\n",
    "df = df.drop('Gender', axis=1)\n"
   ]
  },
  {
   "cell_type": "markdown",
   "id": "741d075d-586c-42f4-83a9-a6c97b29f62a",
   "metadata": {},
   "source": [
    "Panel:\n",
    "\n",
    "The Panel is a three-dimensional data structure in Pandas. However, as of Pandas version 1.0.0, it is recommended to use alternative data structures for three-dimensional data.\n",
    "The Panel is considered to be immutable, meaning it does not support in-place modifications. Instead, operations on a Panel usually return a new Panel.\n",
    "Example of operations with Panel-like data:"
   ]
  },
  {
   "cell_type": "code",
   "execution_count": null,
   "id": "1b4bd79d-3531-4a70-b42a-9d339578be16",
   "metadata": {},
   "outputs": [],
   "source": [
    "import pandas as pd\n",
    "import numpy as np\n",
    "\n",
    "# Creating a Panel-like data structure using MultiIndex and DataFrame\n",
    "data = {'Item1': pd.DataFrame(np.random.randn(4, 3)),\n",
    "        'Item2': pd.DataFrame(np.random.randn(4, 2))}\n",
    "panel = pd.Panel(data)\n",
    "\n",
    "# Getting a DataFrame from Panel\n",
    "df_from_panel = panel['Item1']\n",
    "\n",
    "# Operations on the Panel-like data (returning a new Panel)\n",
    "panel_transposed = panel.transpose(2, 0, 1)\n"
   ]
  },
  {
   "cell_type": "markdown",
   "id": "2a63eb91-4bf9-447c-872a-fe6e6cc95b91",
   "metadata": {},
   "source": [
    "# Create a DataFrame using multiple Series. Explain with an example."
   ]
  },
  {
   "cell_type": "code",
   "execution_count": null,
   "id": "f37eef12-fa76-4d2c-8690-f6d2a80797e7",
   "metadata": {},
   "outputs": [],
   "source": []
  }
 ],
 "metadata": {
  "kernelspec": {
   "display_name": "Python 3 (ipykernel)",
   "language": "python",
   "name": "python3"
  },
  "language_info": {
   "codemirror_mode": {
    "name": "ipython",
    "version": 3
   },
   "file_extension": ".py",
   "mimetype": "text/x-python",
   "name": "python",
   "nbconvert_exporter": "python",
   "pygments_lexer": "ipython3",
   "version": "3.10.8"
  }
 },
 "nbformat": 4,
 "nbformat_minor": 5
}
