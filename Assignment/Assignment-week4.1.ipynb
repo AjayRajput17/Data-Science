{
 "cells": [
  {
   "cell_type": "markdown",
   "id": "385cbdf2-d2e6-4dab-b79b-3b25974b6fdf",
   "metadata": {},
   "source": [
    "Question 1"
   ]
  },
  {
   "cell_type": "code",
   "execution_count": null,
   "id": "cce48054-0a0c-4e1f-8af9-bf41e5b4dac5",
   "metadata": {},
   "outputs": [],
   "source": []
  },
  {
   "cell_type": "raw",
   "id": "dbdc7d1d-01f4-4ca0-ab28-f3bedf39952c",
   "metadata": {},
   "source": [
    "Q1, Create a vehicle class with an init method having instance variables as name_of_vehicle, max_speed\n",
    "and average_of_vehicle."
   ]
  },
  {
   "cell_type": "code",
   "execution_count": 1,
   "id": "eeb7ac09-b59e-49d4-833f-53d6cf158f1c",
   "metadata": {},
   "outputs": [],
   "source": [
    "class vehical:\n",
    "    \n",
    "    def __init__(self,name_of_vehical,max_speed,average_of_vehical):\n",
    "        self.name = name_of_vehical\n",
    "        self.max_speed = max_speed\n",
    "        self.average_of_vehical = average_of_vehical\n",
    "        \n",
    "        \n",
    "    def show_details(self):\n",
    "        print(\"vehical name:\",self.name)\n",
    "        print(\"vehical max speed:\",self.max_speed)\n",
    "        print(\"vehical average:\",self.average_of_vehical)\n",
    "        "
   ]
  },
  {
   "cell_type": "code",
   "execution_count": 6,
   "id": "cd0e65a9-89b8-49c9-ab36-828b40d1915e",
   "metadata": {},
   "outputs": [],
   "source": [
    "v =vehical(\"bike\",120,50)"
   ]
  },
  {
   "cell_type": "code",
   "execution_count": 8,
   "id": "4f7eb785-2226-4019-95bc-9155fa4bc5ba",
   "metadata": {},
   "outputs": [
    {
     "name": "stdout",
     "output_type": "stream",
     "text": [
      "vehical name: bike\n",
      "vehical max speed: 120\n",
      "vehical average: 50\n"
     ]
    }
   ],
   "source": [
    "v.show_details()"
   ]
  },
  {
   "cell_type": "markdown",
   "id": "3fc540dc-cb1a-4f0d-923a-6389b2e53185",
   "metadata": {},
   "source": [
    "question 2\n"
   ]
  },
  {
   "cell_type": "markdown",
   "id": "67b3acfc-67fb-4afd-bbef-15ebda632872",
   "metadata": {
    "tags": []
   },
   "source": [
    "Q2. Create a child class car from the vehicle class created in Que 1, which will inherit the vehicle class.\n",
    "Create a method named seating_capacity which takes capacity as an argument and returns the name of\n",
    "the vehicle and its seating capacity."
   ]
  },
  {
   "cell_type": "code",
   "execution_count": 6,
   "id": "20e90b51-fc32-4880-bf24-daf43e70de2d",
   "metadata": {},
   "outputs": [
    {
     "name": "stdout",
     "output_type": "stream",
     "text": [
      "Vehicle name: Corolla\n",
      "Vehicle max speed: 120\n",
      "Vehicle average: 80\n",
      "Corolla has a seating capacity of 5 people.\n"
     ]
    }
   ],
   "source": [
    "class Vehicle:\n",
    "    def __init__(self, name_of_vehicle=\"Ennova\", max_speed=100, average_of_vehicle=75):\n",
    "        self.name = name_of_vehicle\n",
    "        self.max_speed = max_speed\n",
    "        self.average_of_vehicle = average_of_vehicle\n",
    "\n",
    "    def show_details(self):\n",
    "        print(\"Vehicle name:\", self.name)\n",
    "        print(\"Vehicle max speed:\", self.max_speed)\n",
    "        print(\"Vehicle average:\", self.average_of_vehicle)\n",
    "\n",
    "\n",
    "class Car(Vehicle):\n",
    "    def seating_capacity(self, capacity):\n",
    "        return f\"{self.name} has a seating capacity of {capacity} people.\"\n",
    "\n",
    "car1 = Car(\"Corolla\", 120, 80)\n",
    "car1.show_details()\n",
    "print(car1.seating_capacity(5))"
   ]
  },
  {
   "cell_type": "markdown",
   "id": "419e39f9-635c-40fc-9ab9-ee28d6242a3d",
   "metadata": {},
   "source": [
    "Question 3"
   ]
  },
  {
   "cell_type": "markdown",
   "id": "c614f53d-8117-483c-a6f9-c297fb5138ba",
   "metadata": {},
   "source": [
    "Q3. What is multiple inheritance? Write a python code to demonstrate multiple inheritance."
   ]
  },
  {
   "cell_type": "markdown",
   "id": "f79601b7-702d-4cfa-8a03-f39846830499",
   "metadata": {},
   "source": [
    "Inheritance:- \n",
    "             Inheritance is a fundamental concept in object-oriented programming (OOP) that allows a class to inherit properties and methods from another class. In Python, inheritance is achieved by creating a new class (child class) from an existing class (parent class). The child class inherits all the attributes and behaviors (methods) of the parent class and can also add new attributes or override existing ones."
   ]
  },
  {
   "cell_type": "markdown",
   "id": "87f4f2b2-0de7-457f-b0b8-4f3f64d7dbe7",
   "metadata": {},
   "source": [
    "Multiple inheritance:-\n",
    "                     Multiple inheritance is a feature in object-oriented programming languages that allows a class to inherit attributes and methods from multiple parent classes. "
   ]
  },
  {
   "cell_type": "code",
   "execution_count": 19,
   "id": "35d4802e-ef87-4d38-824c-053b33d3fec3",
   "metadata": {},
   "outputs": [
    {
     "name": "stdout",
     "output_type": "stream",
     "text": [
      "this is the father class\n",
      "this is the mother class\n"
     ]
    }
   ],
   "source": [
    "\n",
    "class father():\n",
    "    \n",
    "    def father(self):\n",
    "        return \"this is the father class\"\n",
    "    \n",
    "class mother:\n",
    "    \n",
    "    def mother(self):\n",
    "        return \"this is the mother class\"\n",
    "\n",
    "class son(father,mother): # son class is inheru\n",
    "    pass\n",
    "\n",
    "c = son()\n",
    "print(c.father())\n",
    "print(c.mother())"
   ]
  },
  {
   "cell_type": "markdown",
   "id": "bbba87dd-7eea-4dec-a5f9-50a694f5b693",
   "metadata": {},
   "source": [
    "Question 4"
   ]
  },
  {
   "cell_type": "markdown",
   "id": "8dc8b5c9-56d7-46bf-bc18-95150d3d060d",
   "metadata": {},
   "source": [
    "Q4. What are getter and setter in python? Create a class and create a getter and a setter method in this\n",
    "class."
   ]
  },
  {
   "cell_type": "markdown",
   "id": "e814f1b4-e872-492b-b387-5a85ee65223e",
   "metadata": {},
   "source": [
    "The getter and setter the method. In which the setter are used to set the values to class variable or object and getter get values from the class variable by the user. In encapsulation concept the actual class variable are hidded from the user and user not able see the variable and modify them directly. The value of the variable are not access and modify by user directly but they can set and acess those variable through the getter and setter method."
   ]
  },
  {
   "cell_type": "code",
   "execution_count": 10,
   "id": "eb7bccf9-f5ee-456f-b3f9-c51f3f2c4046",
   "metadata": {},
   "outputs": [],
   "source": [
    "class student:\n",
    "    \n",
    "    def __init__(self,name,student_id,dept,percentage):\n",
    "        self.__name = name\n",
    "        self.__student_id = student_id\n",
    "        self.__dept = dept\n",
    "        self.__percentage = percentage\n",
    "        \n",
    "    def set_student_details(self) :\n",
    "        name =  input(\"enter student name: \")\n",
    "        stud_id = input(\"enter student id: \")\n",
    "        dept = input(\"enter student department: \")\n",
    "        p = int(input(\"enter student percentage: \"))\n",
    "        \n",
    "        self.__name = name\n",
    "        self.__student_id = stud_id\n",
    "        self.__dept = dept\n",
    "        self.__percentage = p\n",
    "        \n",
    "    def get_student_details(self):\n",
    "        print(f\"studrnt name {self.__name}\")\n",
    "        print(f\"studrnt id {self.__student_id}\")\n",
    "        print(f\"student department {self.__dept}\")\n",
    "        print(f\"student percentage {self.__percentage}\")\n"
   ]
  },
  {
   "cell_type": "code",
   "execution_count": 11,
   "id": "26e92ddb-d395-49ea-bdd0-4f9b728a0f6b",
   "metadata": {},
   "outputs": [],
   "source": [
    "ajay = student(\"ajay\",\"21IF204\",\"IT\",95)"
   ]
  },
  {
   "cell_type": "code",
   "execution_count": null,
   "id": "773a3d17-f7d9-4e93-93c4-e58e86e2e772",
   "metadata": {},
   "outputs": [],
   "source": []
  },
  {
   "cell_type": "code",
   "execution_count": 8,
   "id": "be34357c-9b4f-4543-8285-a784d7b77ec8",
   "metadata": {},
   "outputs": [
    {
     "name": "stdin",
     "output_type": "stream",
     "text": [
      "enter student name:  ajay\n",
      "enter student id:  21IF204\n",
      "enter student department:  IT\n",
      "enter student percentage:  96\n"
     ]
    }
   ],
   "source": [
    "ajay.set_student_details()"
   ]
  },
  {
   "cell_type": "code",
   "execution_count": 12,
   "id": "fd5fe19c-c8be-413a-bf7b-06b83cfdff1a",
   "metadata": {},
   "outputs": [
    {
     "name": "stdout",
     "output_type": "stream",
     "text": [
      "studrnt name ajay\n",
      "studrnt id 21IF204\n",
      "student department IT\n",
      "student percentage 95\n"
     ]
    }
   ],
   "source": [
    "ajay.get_student_details()"
   ]
  },
  {
   "cell_type": "markdown",
   "id": "4a1b6c83-3eae-4e7d-99ed-6d87dcce85d0",
   "metadata": {},
   "source": [
    "Question 5"
   ]
  },
  {
   "cell_type": "markdown",
   "id": "1b295b74-6257-4348-b985-931902b795bd",
   "metadata": {},
   "source": [
    "Q5.What is method overriding in python? Write a python code to demonstrate method overriding."
   ]
  },
  {
   "cell_type": "markdown",
   "id": "a7bb5fa2-28db-4f80-a9f5-83278e161274",
   "metadata": {},
   "source": [
    "Method oveeriding is the concept in object oriented programmiing in which the parent class method is overrided in the base class and body is implemented according to the base class requirment."
   ]
  },
  {
   "cell_type": "code",
   "execution_count": 14,
   "id": "ce917b6e-a6b1-4f0f-81ab-4fba03aa729c",
   "metadata": {},
   "outputs": [
    {
     "name": "stdout",
     "output_type": "stream",
     "text": [
      "Dog barks\n",
      "Cat meows\n"
     ]
    }
   ],
   "source": [
    "class animal :\n",
    "    \n",
    "    def make_sound(self):\n",
    "        print(\"Generic animal sound\")\n",
    "    \n",
    "class dog(animal):\n",
    "    \n",
    "    def make_sound(self):\n",
    "        print(\"Dog barks\")\n",
    "              \n",
    "class cat(animal):\n",
    "    \n",
    "    def make_sound(self):\n",
    "              print(\"Cat meows\")\n",
    "              \n",
    "              \n",
    "              \n",
    "dog = dog()\n",
    "cat = cat()\n",
    "              \n",
    "dog.make_sound()\n",
    "cat.make_sound()\n",
    "        "
   ]
  },
  {
   "cell_type": "markdown",
   "id": "7b3ff4ff-0189-4994-81f9-0a0776f093aa",
   "metadata": {},
   "source": [
    "Assignment Complete"
   ]
  },
  {
   "cell_type": "code",
   "execution_count": null,
   "id": "8871f0a1-0361-4da5-b032-740672229b3c",
   "metadata": {},
   "outputs": [],
   "source": []
  }
 ],
 "metadata": {
  "kernelspec": {
   "display_name": "Python 3 (ipykernel)",
   "language": "python",
   "name": "python3"
  },
  "language_info": {
   "codemirror_mode": {
    "name": "ipython",
    "version": 3
   },
   "file_extension": ".py",
   "mimetype": "text/x-python",
   "name": "python",
   "nbconvert_exporter": "python",
   "pygments_lexer": "ipython3",
   "version": "3.10.8"
  }
 },
 "nbformat": 4,
 "nbformat_minor": 5
}
