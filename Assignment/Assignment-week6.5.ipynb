{
 "cells": [
  {
   "cell_type": "markdown",
   "id": "2b54a86d-2941-4676-942b-0a4f61011314",
   "metadata": {},
   "source": [
    "# Question 1"
   ]
  },
  {
   "cell_type": "markdown",
   "id": "94fc6e70-a8e5-4176-a8fd-931a3ab7b05e",
   "metadata": {},
   "source": [
    "Q1. Explain GET and POST methods."
   ]
  },
  {
   "cell_type": "markdown",
   "id": "af017633-e5ac-4c3b-a497-162ab066640b",
   "metadata": {},
   "source": [
    "In web development, GET and POST are two commonly used HTTP methods for communication between clients (such as web browsers) and servers. Here's an explanation of each method:\n",
    "\n",
    "GET Method:\n",
    "\n",
    "1. The GET method is used to retrieve or fetch data from a server. It sends a request to the server asking for a specific resource identified by a URL.\n",
    "2. When a client initiates a GET request, the data is usually appended to the URL as query parameters. For example, https://example.com/search?query=apple.\n",
    "3. GET requests are considered safe and idempotent, meaning they should not have any side effects on the server and can be repeated without causing changes or unexpected behavior.\n",
    "4. GET requests are typically used for retrieving data, fetching web pages, or performing read operations where the request does not modify the server's state.                 \n",
    "                                \n",
    "POST Method:\n",
    "\n",
    "1. The POST method is used to submit or send data to the server for processing or storage. It sends data as part of the request body rather than appending it to the URL.\n",
    "2. Unlike GET, POST requests are not idempotent. They can have side effects on the server, such as creating a new resource, updating existing data, or triggering server-side actions.\n",
    "3. POST requests are typically used when there is a need to send data that is not suitable for inclusion in the URL, such as form submissions, file uploads, or API requests that modify server data.\n",
    "5. Unlike GET requests, POST requests do not cache the response by default, and the request data is not visible in the URL."
   ]
  },
  {
   "cell_type": "markdown",
   "id": "e482ce1d-9361-4748-9155-ca98bf446640",
   "metadata": {},
   "source": [
    "# Question 2"
   ]
  },
  {
   "cell_type": "markdown",
   "id": "694501a8-070e-447f-87e6-b634460a242d",
   "metadata": {},
   "source": [
    "Q2. Why is request used in Flask?"
   ]
  },
  {
   "cell_type": "markdown",
   "id": "ab47f328-7568-4bb7-b8c1-a0321a5d9d3c",
   "metadata": {},
   "source": [
    "In Flask, the request object is used to access and handle incoming HTTP requests made by clients to the Flask application. It provides information about the request, including data, headers, form inputs, cookies, and more. Here are some reasons why the request object is used in Flask:\n",
    "\n",
    "1. Accessing Request Data: The request object allows you to access various parts of the incoming request, such as the request method (GET, POST, etc.), URL parameters, form data, query parameters, and uploaded files. It provides convenient methods and attributes to retrieve this data, such as request.method, request.args, request.form, and request.files.\n",
    "\n",
    "2. Handling Form Data: Flask provides the request.form object, which allows you to access form data submitted by the client. It provides methods like request.form.get() or request.form['field_name'] to retrieve form inputs.\n",
    "\n",
    "3. Handling Query Parameters: The request.args object gives access to the query parameters in the URL. It allows you to retrieve values passed as part of the URL, such as https://example.com/search?q=flask. In this case, request.args.get('q') would return the value \"flask\".\n",
    "\n",
    "4. Accessing Request Headers: The request.headers attribute provides access to the headers sent by the client. You can retrieve specific headers using methods like request.headers.get('header_name').\n",
    "\n",
    "5. Handling Cookies: The request.cookies attribute allows you to access and manipulate cookies sent by the client. You can retrieve a specific cookie using request.cookies.get('cookie_name') or set a cookie using response.set_cookie().\n",
    "\n",
    "6. File Uploads: If a client sends a file upload request, the request.files object provides access to the uploaded files. You can access the uploaded files using request.files['file_field_name'].\n",
    "\n",
    "7. Authentication and Authorization: The request object is often used in Flask applications to retrieve authentication information from headers or cookies. It allows you to implement authentication and authorization mechanisms based on the incoming request data.                  \n",
    "\n",
    "By utilizing the request object in Flask, you can handle and process the data sent by the client, access important request details, and customize the server's response based on the client's request."
   ]
  },
  {
   "cell_type": "markdown",
   "id": "654dfbc3-f64f-404b-8d6a-ffb3667e9212",
   "metadata": {},
   "source": [
    "# Question 3"
   ]
  },
  {
   "cell_type": "markdown",
   "id": "4bc37908-fe00-425e-a57a-f54281e850c4",
   "metadata": {},
   "source": [
    "Q3. Why is redirect() used in Flask?"
   ]
  },
  {
   "cell_type": "markdown",
   "id": "38ea0339-0f8d-47b0-884e-df2e6e67819e",
   "metadata": {},
   "source": [
    "In Flask, the redirect() function is used to perform a client-side redirect. It is used to redirect the user's browser from one URL to another. Here are some reasons why the redirect() function is used in Flask:\n",
    "\n",
    "1. URL Redirection: redirect() is commonly used to redirect users to a different URL within the same Flask application or to an external URL. It allows you to send the user to a different page or route based on certain conditions or actions.\n",
    "\n",
    "2. Handling Form Submissions: After processing a form submission, you may want to redirect the user to a different page to provide a response or confirmation message. Instead of rendering a template for the same page, redirect() can be used to redirect the user to a separate page. \n",
    "              \n",
    "By using redirect() in Flask, you can control the flow of the application and guide users to different pages or routes based on specific criteria. It enhances user experience, handles form submissions appropriately, and helps maintain clean and efficient URL structures."
   ]
  },
  {
   "cell_type": "markdown",
   "id": "939a4ea1-c7f5-4510-8797-1dd04906d767",
   "metadata": {},
   "source": [
    "# Question 4"
   ]
  },
  {
   "cell_type": "markdown",
   "id": "e984b8dc-a684-4fd9-bc92-a99fd5077414",
   "metadata": {},
   "source": [
    "Q4. What are templates in Flask? Why is the render_template() function used?"
   ]
  },
  {
   "cell_type": "markdown",
   "id": "87ee5885-b420-4e4a-9772-39098aaee143",
   "metadata": {},
   "source": [
    "\n",
    "In Flask, templates are used to separate the presentation logic from the application logic. Templates are files that contain HTML, along with placeholders and control structures, allowing dynamic content to be inserted based on the data provided by the Flask application. The render_template() function is used to render and display these templates. Here's why templates and the render_template() function are used:\n",
    "\n",
    "1. Separation of Concerns: Templates enable a clear separation between the application logic (Python code) and the presentation layer (HTML and other markup). This separation follows the principle of \"separation of concerns\" and allows developers to focus on their respective areas without mixing code and presentation.\n",
    "\n",
    "2. Dynamic Content Generation: With templates, you can generate dynamic content by inserting variables and expressions within the HTML code. The Flask application can pass data to the template, and the render_template() function evaluates and renders the template, replacing the placeholders with the actual data.\n",
    "\n",
    "3. Reusability: Templates facilitate reusability by allowing you to define common structures or layouts that can be used across multiple pages. This helps maintain consistency in the appearance and structure of the web application.\n",
    "\n",
    "4. Templating Engines: Flask uses templating engines, such as Jinja2, as the default engine for rendering templates. Templating engines provide additional capabilities like loops, conditionals, inheritance, and template inheritance, allowing for more complex logic and dynamic content generation within templates.\n",
    "\n",
    "5. HTML Escaping: The render_template() function, when used with a templating engine like Jinja2, automatically handles HTML escaping. This ensures that user-provided data is properly sanitized and prevents potential security vulnerabilities, such as cross-site scripting (XSS) attacks.\n",
    "\n",
    "6. Template Inheritance: Flask templates support template inheritance, which allows you to define a base template with common elements and then extend or override specific sections in child templates. This helps in maintaining a consistent layout while customizing specific pages as needed.\n",
    "\n",
    "By using templates and the render_template() function in Flask, you can create dynamic and interactive web pages by separating application logic from presentation, promoting reusability, and ensuring proper handling of data and security."
   ]
  },
  {
   "cell_type": "markdown",
   "id": "5af800d4-a419-4df9-861b-bbd5b7360951",
   "metadata": {},
   "source": [
    "# Question 5"
   ]
  },
  {
   "cell_type": "markdown",
   "id": "4627c636-f6a3-4cb7-b8f9-46d99669a8ac",
   "metadata": {},
   "source": [
    "Q5. Create a simple API. Use Postman to test it. Attach the screenshot of the output in the Jupyter Notebook."
   ]
  },
  {
   "cell_type": "code",
   "execution_count": null,
   "id": "f29980ec-09ec-4235-9d94-9ebe916c4c5c",
   "metadata": {},
   "outputs": [],
   "source": [
    "\n",
    "@app.route(\"/postman_data\",methods = ['POST'])\n",
    "def math_opration1():\n",
    "    if(request.method == 'POST'):\n",
    "        ops = request.json['operation']\n",
    "        num1 = int(request.json['num1'])\n",
    "        num2 = int(request.json['num2'])\n",
    "        \n",
    "        if(ops == 'add'):\n",
    "            r = num1+num2\n",
    "            result = \"sum of \"+str(num1)+\" and \"+str(num2)+\" is \"+str(r)\n",
    "        \n",
    "\n",
    "        if(ops == 'subtract'):\n",
    "            r = num1 - num2\n",
    "            result = \"subtraction of \"+str(num1)+\" and \"+str(num2)+\" is \"+str(r)\n",
    "        \n",
    "\n",
    "        if(ops == 'multiply'):\n",
    "            r = num1*num2\n",
    "            result = \"multiplication of \"+str(num1)+\" and \"+str(num2)+\" is \"+str(r)\n",
    "        \n",
    "\n",
    "        if(ops == 'divide'):\n",
    "            r = num1/num2\n",
    "            result = \"division of \"+str(num1)+\" and \"+str(num2)+\" is \"+str(r)\n",
    "        \n",
    "\n",
    "        if(ops == 'log'):\n",
    "            r = math.log(num1,num2)\n",
    "            result = \"log of \"+str(num1)+\" and \"+str(num2)+\" is \"+str(r)\n",
    "\n",
    "        return jsonify(result)   \n",
    "\n",
    "\n",
    "\n",
    "\n",
    "\n",
    "\n",
    "if __name__ == \"__main__\":\n",
    "    app.run(host=\"0.0.0.0\")"
   ]
  }
 ],
 "metadata": {
  "kernelspec": {
   "display_name": "Python 3 (ipykernel)",
   "language": "python",
   "name": "python3"
  },
  "language_info": {
   "codemirror_mode": {
    "name": "ipython",
    "version": 3
   },
   "file_extension": ".py",
   "mimetype": "text/x-python",
   "name": "python",
   "nbconvert_exporter": "python",
   "pygments_lexer": "ipython3",
   "version": "3.10.8"
  }
 },
 "nbformat": 4,
 "nbformat_minor": 5
}
