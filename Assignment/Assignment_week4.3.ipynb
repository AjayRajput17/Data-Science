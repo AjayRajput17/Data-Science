{
 "cells": [
  {
   "cell_type": "markdown",
   "id": "ab7af9f5-ff8a-4b07-89b4-379e34cc06b6",
   "metadata": {},
   "source": [
    "Question 1"
   ]
  },
  {
   "cell_type": "markdown",
   "id": "0fe69fcf-a388-4dee-a264-7e973c68b50e",
   "metadata": {},
   "source": [
    "Q1. What is Abstraction in OOps? Explain with an example."
   ]
  },
  {
   "cell_type": "markdown",
   "id": "14692cd0-3aea-479d-8741-98404b192f7f",
   "metadata": {},
   "source": [
    "Abstraction is a fundamental concept in Object-Oriented Programming (OOP) that involves simplifying complex systems by representing only the essential features while hiding unnecessary details. It focuses on defining the essential characteristics and behaviors of an object or a class, while suppressing the implementation specifics. Abstraction allows programmers to work at a higher level of abstraction, where they can focus on what an object does rather than how it does it.\n",
    "\n",
    "In OOP, abstraction is achieved through abstract classes and interfaces. An abstract class is a class that cannot be instantiated and is meant to be subclassed. It provides a common interface and defines abstract methods that must be implemented by its subclasses. An interface, on the other hand, is a collection of abstract methods that define a contract for classes to adhere to."
   ]
  },
  {
   "cell_type": "code",
   "execution_count": 14,
   "id": "4ae49adb-2f64-46db-8ee5-14558e9c914d",
   "metadata": {},
   "outputs": [],
   "source": [
    "import abc\n",
    "\n",
    "class pwskills :\n",
    "    @abc.abstractmethod\n",
    "    def students_details(self):\n",
    "        pass\n",
    "        \n",
    "    @abc.abstractmethod\n",
    "    def student_assignmemet(self):\n",
    "        pass\n",
    "    @abc.abstractmethod\n",
    "    def student_marks(self):\n",
    "        pass\n",
    "    \n",
    "    \n",
    "class student_details(pwskills):\n",
    "    def student_details(self):\n",
    "        print( \"this is a method taking student details\")\n",
    "    \n",
    "    def student_assignmemet(self):\n",
    "        print(\"this is a method for assignment details for perticular student\")\n",
    "    \n",
    "class data_science(pwskills):\n",
    "    \n",
    "    def students_details(self):\n",
    "        print(\"this will return the student details for the data science batch\")\n",
    "    \n",
    "    def student_assignmemet(self):\n",
    "        print(\"this will give a student assignment details for data science batch\")\n",
    "    \n",
    "\n"
   ]
  },
  {
   "cell_type": "code",
   "execution_count": 13,
   "id": "6af1a0f8-8f37-4efe-8e12-7e30d70ae79d",
   "metadata": {},
   "outputs": [
    {
     "name": "stdout",
     "output_type": "stream",
     "text": [
      "this is a method taking student details\n",
      "this is a method for assignment details for perticular student\n"
     ]
    }
   ],
   "source": [
    "student = student_details()\n",
    "student.student_details()\n",
    "student.student_assignmemet()"
   ]
  },
  {
   "cell_type": "code",
   "execution_count": 15,
   "id": "8ec66ccd-ac6b-43b8-bac9-ad681cfc51da",
   "metadata": {},
   "outputs": [
    {
     "name": "stdout",
     "output_type": "stream",
     "text": [
      "this will return the student details for the data science batch\n",
      "this will give a student assignment details for data science batch\n"
     ]
    }
   ],
   "source": [
    "ds = data_science()\n",
    "ds.students_details()\n",
    "ds.student_assignmemet()"
   ]
  },
  {
   "cell_type": "markdown",
   "id": "022adc0f-18a7-41dc-b758-1b4a90e7b502",
   "metadata": {},
   "source": [
    "Question 2"
   ]
  },
  {
   "cell_type": "markdown",
   "id": "4d1e7b8f-54bf-42c6-bd42-6581f4dcab4e",
   "metadata": {},
   "source": [
    "Q2. Differentiate between Abstraction and Encapsulation. Explain with an example."
   ]
  },
  {
   "cell_type": "markdown",
   "id": "814aef2b-d78e-4842-aa59-a025b6af81df",
   "metadata": {},
   "source": [
    "Abstraction and encapsulation are both important concepts in Object-Oriented Programming (OOP), but they serve different purposes and have distinct characteristics.\n",
    "\n",
    "Abstraction focuses on simplifying complex systems by representing only the essential features while hiding unnecessary details. It defines the essential characteristics and behaviors of an object or a class, while suppressing the implementation specifics. Abstraction allows programmers to work at a higher level of understanding, focusing on what an object does rather than how it does it. It is achieved through abstract classes and interfaces.\n",
    "\n",
    "Encapsulation, on the other hand, is about bundling data (attributes) and methods (behaviors) together within an object. It allows the object to control the access to its internal state, ensuring that the data is accessed and modified only through designated methods. Encapsulation provides data hiding and abstraction, preventing direct manipulation of object internals. It promotes code maintainability and reusability by encapsulating implementation details."
   ]
  },
  {
   "cell_type": "code",
   "execution_count": 45,
   "id": "d9c73983-ae6e-4431-a7a5-5f1591be486e",
   "metadata": {},
   "outputs": [
    {
     "name": "stdout",
     "output_type": "stream",
     "text": [
      "name - ajay  email - ajay@gmail.com\n"
     ]
    }
   ],
   "source": [
    "# Encapsulation Example\n",
    "\n",
    "class student :\n",
    "    \n",
    "    def __init__(self,name,email):\n",
    "        self.__name = name\n",
    "        self.__email = email\n",
    "        \n",
    "    def set_details(self,name,email):\n",
    "        self.__name = name\n",
    "        self.__email = email\n",
    "        print(\"student details are updated successfully\")\n",
    "        \n",
    "    def student_get_details(self):\n",
    "        print(\"name -\",self.__name, \" email -\",self.__email)\n",
    "        \n",
    "s= student(\"ajay\",\"ajay@gmail.com\")\n",
    "s.student_get_details()"
   ]
  },
  {
   "cell_type": "code",
   "execution_count": 54,
   "id": "940758ac-e0b1-40fb-90dd-ad68826c14da",
   "metadata": {},
   "outputs": [
    {
     "name": "stdout",
     "output_type": "stream",
     "text": [
      "course- name : Data Science\n",
      "course price : 3500\n",
      "course duration : 9 month\n",
      "\n",
      "course- name : DSA Using Java\n",
      "course price : 2500\n",
      "course duration : 6 month\n"
     ]
    }
   ],
   "source": [
    "# Abstracion Example:-\n",
    "\n",
    "import abc\n",
    "\n",
    "@abc.abstractmethod\n",
    "class course:\n",
    "    \n",
    "    def course_name(self):\n",
    "        pass\n",
    "    \n",
    "    def course_price(self):\n",
    "        pass\n",
    "    \n",
    "    def course_duration(self):\n",
    "        pass\n",
    "    \n",
    "    \n",
    "class data_science(course):\n",
    "    \n",
    "    def course_name(self):\n",
    "        print(\"course- name : Data Science\")\n",
    "        \n",
    "    def course_price(self):\n",
    "        print(\"course price : 3500\")\n",
    "        \n",
    "    def course_duration(self):\n",
    "        print(\"course duration : 9 month\")\n",
    "    \n",
    "class DSA(course):\n",
    "    \n",
    "    def course_name(self):\n",
    "        print(\"course- name : DSA Using Java\")\n",
    "        \n",
    "    def course_price(self):\n",
    "        print(\"course price : 2500\")\n",
    "        \n",
    "    def course_duration(self):\n",
    "        print(\"course duration : 6 month\")\n",
    "        \n",
    "ds = data_science()\n",
    "dsa = DSA()\n",
    "ds.course_name()\n",
    "ds.course_price()\n",
    "ds.course_duration()\n",
    "print()\n",
    "dsa.course_name()\n",
    "dsa.course_price()\n",
    "dsa.course_duration()\n"
   ]
  },
  {
   "cell_type": "markdown",
   "id": "38d3c9b8-a560-4e53-b432-2a700abcaab8",
   "metadata": {},
   "source": [
    "Question 3"
   ]
  },
  {
   "cell_type": "markdown",
   "id": "5779fab8-6e6a-42ea-9c4d-88677bc8fa65",
   "metadata": {},
   "source": [
    "Q3. What is abc module in python? Why is it used?"
   ]
  },
  {
   "cell_type": "markdown",
   "id": "03c9f908-6901-4a4a-a4c3-d762d8adfd9d",
   "metadata": {},
   "source": [
    "The abc module in Python stands for \"Abstract Base Classes.\" It is a module that provides infrastructure for creating abstract base classes. An abstract base class is a class that cannot be instantiated directly and is meant to be subclassed. It defines a common interface and optionally provides default implementations for methods. The primary purpose of the abc module is to support the concept of abstract base classes and provide a mechanism for defining abstract methods.\n",
    "\n",
    "The abc module is used for the following reasons:\n",
    "\n",
    "1.Defining Abstract Base Classes (ABCs):\n",
    "The abc module allows you to define abstract base classes using the ABC class as a base. An abstract base class provides a common interface for its subclasses, defining the methods that must be implemented by those subclasses. By defining an abstract base class, you can ensure that specific methods are present in the subclasses, enforcing a contract that all subclasses must adhere to.\n",
    "\n",
    "2.Enforcing Method Implementation:\n",
    "The abc module allows you to define abstract methods within abstract base classes. An abstract method is a method that has no implementation in the abstract base class and must be implemented by any concrete subclass. When a subclass fails to implement an abstract method, it raises a TypeError at runtime, notifying the programmer about the missing implementation.\n",
    "\n",
    "3.Supporting Polymorphism:\n",
    "Abstract base classes provide a way to achieve polymorphism in Python. By defining a common interface in an abstract base class, you can write code that works with objects of different classes as long as they adhere to the interface defined by the abstract base class. This promotes code reuse and enables writing more generic code that can handle various implementations."
   ]
  },
  {
   "cell_type": "markdown",
   "id": "66e0a1d3-cce2-4425-8fe3-7f9514463466",
   "metadata": {},
   "source": [
    "Question 4"
   ]
  },
  {
   "cell_type": "markdown",
   "id": "aa8bd3d9-e994-4a42-93dc-8ae6e67a5b72",
   "metadata": {},
   "source": [
    "Q4. How can we achieve data abstraction?"
   ]
  },
  {
   "cell_type": "markdown",
   "id": "1dca013d-182a-4326-b10a-0bb1446747b8",
   "metadata": {},
   "source": [
    "n Python, we can achieve data abstraction through the use of classes and object-oriented programming (OOP) techniques. Data abstraction involves hiding the internal implementation details of an object and exposing only the essential information or behavior to the outside world. It allows us to work with objects at a higher level of understanding without being concerned about the internal complexities.\n",
    "\n",
    "Here are some techniques to achieve data abstraction in Python:\n",
    "\n",
    "Encapsulation:\n",
    "Encapsulation is a fundamental concept in OOP and a key component of data abstraction. It involves bundling data (attributes) and methods (behaviors) together within an object. By encapsulating data, we can control access to it and provide public methods (interfaces) to manipulate or retrieve the data. This way, we can hide the internal implementation details and only expose the necessary information to the outside world.\n",
    "\n",
    "Access Modifiers:\n",
    "Python does not have strict access modifiers like some other programming languages (e.g., private, public, protected), but we can use naming conventions to indicate the intended visibility of attributes and methods. By convention, attributes or methods that start with a single underscore (_) are considered as internal use, implying that they should not be accessed directly from outside the class. Attributes or methods that start with a double underscore (__) indicate name mangling, which makes them harder to access outside the class.\n",
    "\n",
    "Getters and Setters:\n",
    "To provide controlled access to attributes, we can use getter and setter methods. Getters are methods that retrieve the value of an attribute, while setters are methods that modify the value of an attribute. By using getter and setter methods, we can implement validation logic, perform data transformations, or enforce certain rules while accessing or modifying the data. This way, we maintain control over the data and ensure that it is used correctly.\n",
    "\n",
    "Property Decorators:\n",
    "In Python, we can also use property decorators to define getter, setter, and deleter methods for an attribute. The property decorator allows us to define a method as an attribute, and when that attribute is accessed or modified, the corresponding getter or setter method is invoked. Property decorators provide a concise and Pythonic way to implement data abstraction by encapsulating attribute access."
   ]
  },
  {
   "cell_type": "markdown",
   "id": "fe880c67-4f2b-4538-a5fa-d675713d8496",
   "metadata": {},
   "source": [
    "Question 5"
   ]
  },
  {
   "cell_type": "markdown",
   "id": "14a6aa29-c3c9-468f-859b-98f9785f6879",
   "metadata": {},
   "source": [
    "Q5. Can we create an instance of an abstract class? Explain your answer."
   ]
  },
  {
   "cell_type": "markdown",
   "id": "5b550d40-9bbf-4de0-8f2e-e232c6fa5926",
   "metadata": {},
   "source": [
    "No, we cannot create an instance of an abstract class in Python. An abstract class is a class that cannot be instantiated directly and is meant to be subclassed. It is designed to serve as a blueprint for its subclasses, providing a common interface and defining abstract methods that must be implemented by its subclasses.\n",
    "\n",
    "In Python, abstract classes are created using the abc module and the ABC class as a base. The ABC class stands for \"Abstract Base Class.\" By inheriting from ABC and using the @abstractmethod decorator, we can define abstract methods within the abstract class. An abstract method is a method that has no implementation in the abstract base class and must be implemented by any concrete subclass.\n",
    "\n",
    "When we try to instantiate an abstract class directly, Python raises a TypeError with the message \"Can't instantiate abstract class <ClassName> with abstract methods <abstract_method_list>\". This error indicates that the abstract class cannot be instantiated because it has one or more abstract methods that are not implemented."
   ]
  },
  {
   "cell_type": "code",
   "execution_count": 1,
   "id": "035e6148-330a-4dad-a0f2-8c96e509db03",
   "metadata": {},
   "outputs": [
    {
     "ename": "TypeError",
     "evalue": "Can't instantiate abstract class AbstractClass with abstract method abstract_method",
     "output_type": "error",
     "traceback": [
      "\u001b[0;31m---------------------------------------------------------------------------\u001b[0m",
      "\u001b[0;31mTypeError\u001b[0m                                 Traceback (most recent call last)",
      "Cell \u001b[0;32mIn[1], line 9\u001b[0m\n\u001b[1;32m      4\u001b[0m     \u001b[38;5;129m@abstractmethod\u001b[39m\n\u001b[1;32m      5\u001b[0m     \u001b[38;5;28;01mdef\u001b[39;00m \u001b[38;5;21mabstract_method\u001b[39m(\u001b[38;5;28mself\u001b[39m):\n\u001b[1;32m      6\u001b[0m         \u001b[38;5;28;01mpass\u001b[39;00m\n\u001b[0;32m----> 9\u001b[0m obj \u001b[38;5;241m=\u001b[39m \u001b[43mAbstractClass\u001b[49m\u001b[43m(\u001b[49m\u001b[43m)\u001b[49m\n",
      "\u001b[0;31mTypeError\u001b[0m: Can't instantiate abstract class AbstractClass with abstract method abstract_method"
     ]
    }
   ],
   "source": [
    "from abc import ABC, abstractmethod\n",
    "\n",
    "class AbstractClass(ABC):\n",
    "    @abstractmethod\n",
    "    def abstract_method(self):\n",
    "        pass\n",
    "\n",
    "\n",
    "obj = AbstractClass()"
   ]
  },
  {
   "cell_type": "markdown",
   "id": "99884931-401c-4889-a439-5dacc9ed8e43",
   "metadata": {},
   "source": [
    "output: - TypeError: Can't instantiate abstract class AbstractClass with abstract method abstract_method"
   ]
  },
  {
   "cell_type": "code",
   "execution_count": null,
   "id": "88f421c9-3fb6-42ce-a6ac-c8386617d100",
   "metadata": {},
   "outputs": [],
   "source": []
  }
 ],
 "metadata": {
  "kernelspec": {
   "display_name": "Python 3 (ipykernel)",
   "language": "python",
   "name": "python3"
  },
  "language_info": {
   "codemirror_mode": {
    "name": "ipython",
    "version": 3
   },
   "file_extension": ".py",
   "mimetype": "text/x-python",
   "name": "python",
   "nbconvert_exporter": "python",
   "pygments_lexer": "ipython3",
   "version": "3.10.8"
  }
 },
 "nbformat": 4,
 "nbformat_minor": 5
}
