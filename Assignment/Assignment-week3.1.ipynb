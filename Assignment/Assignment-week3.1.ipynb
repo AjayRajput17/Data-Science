{
 "cells": [
  {
   "cell_type": "markdown",
   "id": "73254f28-b348-41d8-888d-45e84c1770d0",
   "metadata": {},
   "source": [
    "Question 1"
   ]
  },
  {
   "cell_type": "raw",
   "id": "f584f736-7183-478a-88f7-9c718145f602",
   "metadata": {},
   "source": [
    "Q1. Which keyword is used to create a function? Create a function to return a list of odd numbers in the\n",
    "range of 1 to 25.\n",
    "  Ans :- The 'def' keyword are used to create the function\n",
    "    syntax: def function_name(args1,args2...argsn)"
   ]
  },
  {
   "cell_type": "code",
   "execution_count": 8,
   "id": "10105d9f-fc84-4db5-aab5-1d947be76fb3",
   "metadata": {},
   "outputs": [],
   "source": [
    "def odd_no():\n",
    "    l=[]\n",
    "    for i in range(1,25):\n",
    "        \n",
    "        if i%2==0:\n",
    "            l.append(i)\n",
    "    return l   "
   ]
  },
  {
   "cell_type": "code",
   "execution_count": 9,
   "id": "dd27898b-1858-4bde-a9e4-2fb578566144",
   "metadata": {},
   "outputs": [
    {
     "data": {
      "text/plain": [
       "[2, 4, 6, 8, 10, 12, 14, 16, 18, 20, 22, 24]"
      ]
     },
     "execution_count": 9,
     "metadata": {},
     "output_type": "execute_result"
    }
   ],
   "source": [
    "odd_no()"
   ]
  },
  {
   "cell_type": "markdown",
   "id": "e0bc4053-05c5-4571-9a77-9b0a276b8b63",
   "metadata": {},
   "source": [
    "Question 2"
   ]
  },
  {
   "cell_type": "markdown",
   "id": "e9061075-6dd1-49a5-80a6-40418d10e304",
   "metadata": {},
   "source": [
    "Q2. Why *args and **kwargs is used in some functions? Create a function each for *args and **kwargs\n",
    "to demonstrate their use.\n",
    "ans:- 1. *args:-\n",
    "      The args parameter allows a function to accept a variable number of positional arguments. It collects all the positional arguments passed to the function into a tuple. The name \"args\" is a convention, but you can use any valid variable name preceded by an asterisk (). "
   ]
  },
  {
   "cell_type": "code",
   "execution_count": 10,
   "id": "90ea0aaf-7476-4b63-98ce-667bafe71676",
   "metadata": {},
   "outputs": [],
   "source": [
    "def test(*args):\n",
    "    return args"
   ]
  },
  {
   "cell_type": "code",
   "execution_count": 11,
   "id": "d698871e-0a91-401f-a93e-0f5fb3adc310",
   "metadata": {},
   "outputs": [
    {
     "data": {
      "text/plain": [
       "(1, 2, 3, 4, 5, 6, 7, 8, 9, 'ajay')"
      ]
     },
     "execution_count": 11,
     "metadata": {},
     "output_type": "execute_result"
    }
   ],
   "source": [
    "test(1,2,3,4,5,6,7,8,9,\"ajay\")"
   ]
  },
  {
   "cell_type": "raw",
   "id": "80c9e989-bb35-4842-8757-18588aab9b06",
   "metadata": {},
   "source": [
    "2. **kwargs:- \n",
    "             The kwargs parameter allows a function to accept a variable number of keyword arguments. It collects all the keyword arguments passed to the function into a dictionary. The name \"kwargs\" is a convention, but you can use any valid variable name preceded by two asterisks ()."
   ]
  },
  {
   "cell_type": "code",
   "execution_count": 12,
   "id": "93b203ce-bebd-47a7-91e4-6890256fea72",
   "metadata": {},
   "outputs": [],
   "source": [
    "def test1(**kwargs):\n",
    "    return(kwargs)\n",
    "    "
   ]
  },
  {
   "cell_type": "code",
   "execution_count": 13,
   "id": "98034a92-5b05-493d-a4ab-3548a8ebcd33",
   "metadata": {},
   "outputs": [
    {
     "data": {
      "text/plain": [
       "{'name': 'ajay', 'mobail': '9284772561', 'address': 'chikhali'}"
      ]
     },
     "execution_count": 13,
     "metadata": {},
     "output_type": "execute_result"
    }
   ],
   "source": [
    "test1(name=\"ajay\",mobail=\"9284772561\",address=\"chikhali\")"
   ]
  },
  {
   "cell_type": "markdown",
   "id": "4079740e-80fc-4944-8a85-dca38aac359a",
   "metadata": {},
   "source": [
    "Queation 3"
   ]
  },
  {
   "cell_type": "raw",
   "id": "034989b9-a6fe-4f3e-949a-2cbc78f25de0",
   "metadata": {},
   "source": [
    "Q3. What is an iterator in python? Name the method used to initialise the iterator object and the method\n",
    "used for iteration. Use these methods to print the first five elements of the given list [2, 4, 6, 8, 10, 12, 14,\n",
    "16, 18, 20].\n",
    "ans:- The iterator in python are the object are used iterate over the sequence  iterable data types like the string,tuple,list etc.we can retrive the element from the itrable object one by one using the next method.the for loop internally implement the itrator concept to retrive the element one by one.\n",
    "   To initialize an iterator object in Python, you can use the iter() function. This function takes an iterable object as an argument and returns an iterator object.\n",
    "    To iterate over the elements of an iterator, you can use the next() function. This function retrieves the next element from the iterator. By repeatedly calling next(), you can iterate through all the elements of the iterator.\n",
    "    "
   ]
  },
  {
   "cell_type": "code",
   "execution_count": 2,
   "id": "a2b48aec-f69b-4aa8-bb6f-7bfe9e9fb0fd",
   "metadata": {},
   "outputs": [
    {
     "name": "stdout",
     "output_type": "stream",
     "text": [
      "2\n",
      "4\n",
      "6\n",
      "8\n",
      "10\n"
     ]
    }
   ],
   "source": [
    "l= [2,4,6,8,10,12,14,16,18,20]\n",
    "l1 = iter(l)\n",
    "for i in range(5):\n",
    "    print(next(l1))"
   ]
  },
  {
   "cell_type": "markdown",
   "id": "6640fd55-e20e-4b72-ac29-a82d28a84761",
   "metadata": {},
   "source": [
    "Question 4"
   ]
  },
  {
   "cell_type": "raw",
   "id": "9d19c2e0-ca2e-4305-bf52-74fc17c9a0b7",
   "metadata": {},
   "source": [
    "Q4. What is a generator function in python? Why yield keyword is used? Give an example of a generator\n",
    "function.\n",
    "ans- \n",
    "      The generator function in python are the special type of function that will be generate the value dynamically and one by one instend craete the list whole output and proivede at onces, hence it wiil more memory efficiant.When a generator function is called, it returns an iterator object, which can be iterated upon to retrieve values generated by the function.\n",
    "       Thea generator function is a use the yield keyword instead of the return keyword to generate a series of values.the yield keyword is used in a generator function to indicate where the value should be generated and returned to the caller, while allowing the function's state to be preserved. When a value is yielded, the function's execution is paused, and the yielded value is returned. The next time the generator function is called, it resumes execution from where it left off, allowing it to generate the next value in the sequence."
   ]
  },
  {
   "cell_type": "code",
   "execution_count": 8,
   "id": "f0a06f77-c157-47cc-99c0-ade85f9db422",
   "metadata": {},
   "outputs": [],
   "source": [
    "# program to print first 10 Fibonacci number\n",
    "def generator(n):\n",
    "    a,b=0,1\n",
    "    for i in range(n):\n",
    "        yield a\n",
    "        a,b = b,a+b\n",
    "        "
   ]
  },
  {
   "cell_type": "code",
   "execution_count": 9,
   "id": "5748cbae-4095-4ef5-9235-25a47608d0bc",
   "metadata": {},
   "outputs": [],
   "source": [
    "gen = generator(10)"
   ]
  },
  {
   "cell_type": "code",
   "execution_count": 10,
   "id": "5a54272a-b686-43c3-8792-b76cfeb80983",
   "metadata": {},
   "outputs": [
    {
     "name": "stdout",
     "output_type": "stream",
     "text": [
      "0\n",
      "1\n",
      "1\n",
      "2\n",
      "3\n",
      "5\n",
      "8\n",
      "13\n",
      "21\n",
      "34\n"
     ]
    }
   ],
   "source": [
    "for j in gen:\n",
    "    print(j)"
   ]
  },
  {
   "cell_type": "markdown",
   "id": "ca36fd11-86a4-460d-b10e-f229b478fb55",
   "metadata": {},
   "source": [
    "Question 5"
   ]
  },
  {
   "cell_type": "raw",
   "id": "6cb3b7ed-34f9-4654-8599-538248855f3c",
   "metadata": {},
   "source": [
    "Q5. Create a generator function for prime numbers less than 1000. Use the next() method to print the\n",
    "first 20 prime numbers."
   ]
  },
  {
   "cell_type": "code",
   "execution_count": 5,
   "id": "61493856-d478-4b67-96da-78b3061b9ff7",
   "metadata": {},
   "outputs": [
    {
     "name": "stdout",
     "output_type": "stream",
     "text": [
      "2\n",
      "3\n",
      "5\n",
      "7\n",
      "11\n",
      "13\n",
      "17\n",
      "19\n",
      "23\n",
      "29\n",
      "31\n",
      "37\n",
      "41\n",
      "43\n",
      "47\n",
      "53\n",
      "59\n",
      "61\n",
      "67\n",
      "71\n"
     ]
    }
   ],
   "source": [
    "def is_prime(number):\n",
    "    if number <= 1:\n",
    "        return False\n",
    "    for i in range(2, number):\n",
    "        if number % i == 0:\n",
    "            return False\n",
    "    return True\n",
    "\n",
    "def print_primes():\n",
    "    for i in range(1, 1000):\n",
    "        if is_prime(i):\n",
    "            yield i\n",
    "\n",
    "gen = print_primes()\n",
    "for j in range(20):\n",
    "    print(next(gen))"
   ]
  },
  {
   "cell_type": "markdown",
   "id": "5af5cc9e-9db2-4fa4-868b-1c0168d8bd83",
   "metadata": {},
   "source": [
    "Question 6"
   ]
  },
  {
   "cell_type": "raw",
   "id": "b3345248-8361-435e-99a2-9f10b849971a",
   "metadata": {},
   "source": [
    "Q6. Write a python program to print the first 10 Fibonacci numbers using a while loop."
   ]
  },
  {
   "cell_type": "code",
   "execution_count": 6,
   "id": "af24ad16-ac11-4410-a03b-eeffad952175",
   "metadata": {},
   "outputs": [
    {
     "name": "stdout",
     "output_type": "stream",
     "text": [
      "0\n",
      "1\n",
      "1\n",
      "2\n",
      "3\n",
      "5\n",
      "8\n",
      "13\n",
      "21\n",
      "34\n"
     ]
    }
   ],
   "source": [
    "def gen_fab():\n",
    "    a,b=0,1\n",
    "    while True:\n",
    "        yield a\n",
    "        a,b=b,a+b\n",
    "fab = gen_fab()\n",
    "for i in range(10):\n",
    "    print(next(fab))\n",
    "        "
   ]
  },
  {
   "cell_type": "markdown",
   "id": "62caf972-5234-4667-8c2d-17f87c877c2d",
   "metadata": {},
   "source": [
    "Question 7"
   ]
  },
  {
   "cell_type": "raw",
   "id": "1e742812-e582-47ec-a062-9a3baea3e113",
   "metadata": {},
   "source": [
    "Q7. Write a List Comprehension to iterate through the given string: ‘pwskills’.\n",
    "Expected output: ['p', 'w', 's', 'k', 'i', 'l', 'l', 's']"
   ]
  },
  {
   "cell_type": "code",
   "execution_count": 12,
   "id": "12d0eeb5-10ef-4c13-bd6d-d9bbdd60faad",
   "metadata": {},
   "outputs": [
    {
     "name": "stdout",
     "output_type": "stream",
     "text": [
      "['p', 'w', 's', 'k', 'i', 'l', 'l', 's']\n"
     ]
    }
   ],
   "source": [
    "l =\"pwskills\"\n",
    "l1 = iter(l)\n",
    "l2=[]\n",
    "for i in range(len(l)):\n",
    "    l2.append(next(l1))\n",
    "print(l2)    \n"
   ]
  },
  {
   "cell_type": "markdown",
   "id": "20cf458e-9d66-4818-b50e-267399718f23",
   "metadata": {},
   "source": [
    "Question 8"
   ]
  },
  {
   "cell_type": "raw",
   "id": "b8334a00-726b-46c8-b7b5-746f7b9b6ba6",
   "metadata": {},
   "source": [
    "Q8. Write a python program to check whether a given number is Palindrome or not using a while loop."
   ]
  },
  {
   "cell_type": "code",
   "execution_count": 4,
   "id": "689bb695-fdd4-4304-8153-ae96a687ca36",
   "metadata": {},
   "outputs": [],
   "source": [
    "def check(n):\n",
    "    m=n\n",
    "    rev =0\n",
    "    while m>0:\n",
    "        rem = m%10\n",
    "        rev = rev*10+rem\n",
    "        m = m//10\n",
    "    if n==rev:\n",
    "        print(\"it is a palidrone number\")\n",
    "    else:\n",
    "        print(\"it is not a palidrone number\")\n",
    "        \n",
    "        "
   ]
  },
  {
   "cell_type": "code",
   "execution_count": 5,
   "id": "1313f237-83ed-438a-a783-cf2013c1c47e",
   "metadata": {},
   "outputs": [
    {
     "name": "stdout",
     "output_type": "stream",
     "text": [
      "it is a palidrone number\n"
     ]
    }
   ],
   "source": [
    "check(111)"
   ]
  },
  {
   "cell_type": "code",
   "execution_count": 6,
   "id": "5c7aa06b-dfb1-41f2-9248-98e0579f3275",
   "metadata": {},
   "outputs": [
    {
     "name": "stdout",
     "output_type": "stream",
     "text": [
      "it is not a palidrone number\n"
     ]
    }
   ],
   "source": [
    "check(123)"
   ]
  },
  {
   "cell_type": "markdown",
   "id": "ff7cb31d-2f35-420b-9b43-24c849a62cce",
   "metadata": {},
   "source": [
    "Question 9"
   ]
  },
  {
   "cell_type": "raw",
   "id": "831734c2-c35a-4a60-8dcc-dae611ff1591",
   "metadata": {},
   "source": [
    "Q9. Write a code to print odd numbers from 1 to 100 using list comprehension.\n",
    "Note: Use a list comprehension to create a list from 1 to 100 and use another List comprehension to filter\n",
    "out odd numbers."
   ]
  },
  {
   "cell_type": "code",
   "execution_count": 25,
   "id": "934eee3e-e056-43ca-87eb-5790ddb8f7ee",
   "metadata": {},
   "outputs": [
    {
     "name": "stdout",
     "output_type": "stream",
     "text": [
      "[1, 3, 5, 7, 9, 11, 13, 15, 17, 19, 21, 23, 25, 27, 29, 31, 33, 35, 37, 39, 41, 43, 45, 47, 49, 51, 53, 55, 57, 59, 61, 63, 65, 67, 69, 71, 73, 75, 77, 79, 81, 83, 85, 87, 89, 91, 93, 95, 97, 99]\n"
     ]
    }
   ],
   "source": [
    "# Example 1: Filtering even numbers\n",
    "numbers = []\n",
    "for i in range(1,101):\n",
    "    numbers.append(i)\n",
    "\n",
    "def is_even(num):\n",
    "    return num % 2 != 0\n",
    "\n",
    "even_numbers = list(filter(is_even, numbers))\n",
    "print(even_numbers)"
   ]
  },
  {
   "cell_type": "code",
   "execution_count": null,
   "id": "d672119e-7720-4ef2-a06f-0bd1a815c5cd",
   "metadata": {},
   "outputs": [],
   "source": []
  }
 ],
 "metadata": {
  "kernelspec": {
   "display_name": "Python 3 (ipykernel)",
   "language": "python",
   "name": "python3"
  },
  "language_info": {
   "codemirror_mode": {
    "name": "ipython",
    "version": 3
   },
   "file_extension": ".py",
   "mimetype": "text/x-python",
   "name": "python",
   "nbconvert_exporter": "python",
   "pygments_lexer": "ipython3",
   "version": "3.10.8"
  }
 },
 "nbformat": 4,
 "nbformat_minor": 5
}
