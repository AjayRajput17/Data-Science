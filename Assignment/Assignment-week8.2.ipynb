{
 "cells": [
  {
   "cell_type": "code",
   "execution_count": 2,
   "id": "27f4b700-6f78-43ae-a4fc-a9fe5846ffc6",
   "metadata": {},
   "outputs": [],
   "source": [
    "import pandas as pd\n",
    "course_name = ['Data Science', 'Machine Learning', 'Big Data', 'Data Engineer']\n",
    "duration = [2,3,6,4]\n",
    "df = pd.DataFrame(data = {'course_name' : course_name, 'duration' : duration})"
   ]
  },
  {
   "cell_type": "code",
   "execution_count": 4,
   "id": "107813ee-ffdc-486b-8b41-d4590e50101b",
   "metadata": {},
   "outputs": [
    {
     "data": {
      "text/html": [
       "<div>\n",
       "<style scoped>\n",
       "    .dataframe tbody tr th:only-of-type {\n",
       "        vertical-align: middle;\n",
       "    }\n",
       "\n",
       "    .dataframe tbody tr th {\n",
       "        vertical-align: top;\n",
       "    }\n",
       "\n",
       "    .dataframe thead th {\n",
       "        text-align: right;\n",
       "    }\n",
       "</style>\n",
       "<table border=\"1\" class=\"dataframe\">\n",
       "  <thead>\n",
       "    <tr style=\"text-align: right;\">\n",
       "      <th></th>\n",
       "      <th>course_name</th>\n",
       "      <th>duration</th>\n",
       "    </tr>\n",
       "  </thead>\n",
       "  <tbody>\n",
       "    <tr>\n",
       "      <th>0</th>\n",
       "      <td>Data Science</td>\n",
       "      <td>2</td>\n",
       "    </tr>\n",
       "    <tr>\n",
       "      <th>1</th>\n",
       "      <td>Machine Learning</td>\n",
       "      <td>3</td>\n",
       "    </tr>\n",
       "    <tr>\n",
       "      <th>2</th>\n",
       "      <td>Big Data</td>\n",
       "      <td>6</td>\n",
       "    </tr>\n",
       "    <tr>\n",
       "      <th>3</th>\n",
       "      <td>Data Engineer</td>\n",
       "      <td>4</td>\n",
       "    </tr>\n",
       "  </tbody>\n",
       "</table>\n",
       "</div>"
      ],
      "text/plain": [
       "        course_name  duration\n",
       "0      Data Science         2\n",
       "1  Machine Learning         3\n",
       "2          Big Data         6\n",
       "3     Data Engineer         4"
      ]
     },
     "execution_count": 4,
     "metadata": {},
     "output_type": "execute_result"
    }
   ],
   "source": [
    "df"
   ]
  },
  {
   "cell_type": "markdown",
   "id": "189949b2-b242-4773-aa5e-12fd521d571e",
   "metadata": {},
   "source": [
    "# Q1. Write a code to print the data present in the second row of the dataframe, df."
   ]
  },
  {
   "cell_type": "code",
   "execution_count": 7,
   "id": "23335f4e-ee1d-484b-b33a-1e10eeb94bd3",
   "metadata": {},
   "outputs": [
    {
     "name": "stdout",
     "output_type": "stream",
     "text": [
      "course_name    Machine Learning\n",
      "duration                      3\n",
      "Name: 1, dtype: object\n"
     ]
    }
   ],
   "source": [
    "print(df.iloc[1])"
   ]
  },
  {
   "cell_type": "markdown",
   "id": "9b5726ec-4818-4f23-946d-87cde3c9d1ce",
   "metadata": {},
   "source": [
    "# Q2. What is the difference between the functions loc and iloc in pandas.DataFrame?"
   ]
  },
  {
   "cell_type": "markdown",
   "id": "bf7669ca-0ed6-4a29-aab2-867a23b61efd",
   "metadata": {},
   "source": [
    "<!-- 1. iloc (Integer Location)\n",
    "Indexing Method: Uses integer-based indexing.\n",
    "Syntax: df.iloc[row_index, column_index]\n",
    "Access: Allows you to select rows and columns by their integer positions (0-based index). -->"
   ]
  },
  {
   "cell_type": "code",
   "execution_count": 8,
   "id": "a1575cb5-fdf3-4936-a904-9b8e95dcdb34",
   "metadata": {},
   "outputs": [
    {
     "data": {
      "text/html": [
       "<div>\n",
       "<style scoped>\n",
       "    .dataframe tbody tr th:only-of-type {\n",
       "        vertical-align: middle;\n",
       "    }\n",
       "\n",
       "    .dataframe tbody tr th {\n",
       "        vertical-align: top;\n",
       "    }\n",
       "\n",
       "    .dataframe thead th {\n",
       "        text-align: right;\n",
       "    }\n",
       "</style>\n",
       "<table border=\"1\" class=\"dataframe\">\n",
       "  <thead>\n",
       "    <tr style=\"text-align: right;\">\n",
       "      <th></th>\n",
       "      <th>course_name</th>\n",
       "      <th>duration</th>\n",
       "    </tr>\n",
       "  </thead>\n",
       "  <tbody>\n",
       "    <tr>\n",
       "      <th>1</th>\n",
       "      <td>Machine Learning</td>\n",
       "      <td>3</td>\n",
       "    </tr>\n",
       "    <tr>\n",
       "      <th>2</th>\n",
       "      <td>Big Data</td>\n",
       "      <td>6</td>\n",
       "    </tr>\n",
       "  </tbody>\n",
       "</table>\n",
       "</div>"
      ],
      "text/plain": [
       "        course_name  duration\n",
       "1  Machine Learning         3\n",
       "2          Big Data         6"
      ]
     },
     "execution_count": 8,
     "metadata": {},
     "output_type": "execute_result"
    }
   ],
   "source": [
    "\n",
    "df.iloc[1, 0]  # Accesses the element at the second row and first column\n",
    "df.iloc[:, 1]  # Accesses all rows in the second column\n",
    "df.iloc[1:3]   # Accesses rows from index 1 to 2 (exclusive of 3)\n"
   ]
  },
  {
   "cell_type": "markdown",
   "id": "4cd08b05-9a76-4b83-a605-f5a226ef92d2",
   "metadata": {},
   "source": [
    "2. loc (Label Location)\n",
    "Indexing Method: Uses label-based indexing.\n",
    "Syntax: df.loc[row_label, column_label]\n",
    "Access: Allows you to select rows and columns by their labels (row or column names)."
   ]
  },
  {
   "cell_type": "code",
   "execution_count": 9,
   "id": "b4f214a6-5dae-429e-9960-feaff8cf0e3f",
   "metadata": {},
   "outputs": [
    {
     "data": {
      "text/html": [
       "<div>\n",
       "<style scoped>\n",
       "    .dataframe tbody tr th:only-of-type {\n",
       "        vertical-align: middle;\n",
       "    }\n",
       "\n",
       "    .dataframe tbody tr th {\n",
       "        vertical-align: top;\n",
       "    }\n",
       "\n",
       "    .dataframe thead th {\n",
       "        text-align: right;\n",
       "    }\n",
       "</style>\n",
       "<table border=\"1\" class=\"dataframe\">\n",
       "  <thead>\n",
       "    <tr style=\"text-align: right;\">\n",
       "      <th></th>\n",
       "      <th>course_name</th>\n",
       "      <th>duration</th>\n",
       "    </tr>\n",
       "  </thead>\n",
       "  <tbody>\n",
       "    <tr>\n",
       "      <th>0</th>\n",
       "      <td>Data Science</td>\n",
       "      <td>2</td>\n",
       "    </tr>\n",
       "    <tr>\n",
       "      <th>1</th>\n",
       "      <td>Machine Learning</td>\n",
       "      <td>3</td>\n",
       "    </tr>\n",
       "    <tr>\n",
       "      <th>2</th>\n",
       "      <td>Big Data</td>\n",
       "      <td>6</td>\n",
       "    </tr>\n",
       "  </tbody>\n",
       "</table>\n",
       "</div>"
      ],
      "text/plain": [
       "        course_name  duration\n",
       "0      Data Science         2\n",
       "1  Machine Learning         3\n",
       "2          Big Data         6"
      ]
     },
     "execution_count": 9,
     "metadata": {},
     "output_type": "execute_result"
    }
   ],
   "source": [
    "df.loc[0, 'course_name']  # Accesses the element in the row with label 0 and column 'course_name'\n",
    "df.loc[:, 'duration']     # Accesses all rows in the 'duration' column\n",
    "df.loc[0:2]               # Accesses rows with labels from 0 to 2 (inclusive)\n"
   ]
  },
  {
   "cell_type": "markdown",
   "id": "e447956d-310b-40fe-ad4c-aebb79b02188",
   "metadata": {},
   "source": [
    "Key Differences:\n",
    "iloc is primarily for position-based indexing and is useful when you know the exact positions of rows and columns you want to access.\n",
    "loc is for label-based indexing and is useful when you want to access data based on row/column labels. It is more intuitive when working with labeled data."
   ]
  },
  {
   "cell_type": "markdown",
   "id": "c9d994dc-01a6-4c6d-9a9e-a0602c9aef10",
   "metadata": {},
   "source": [
    "# Q3. Reindex the given dataframe using a variable, reindex = [3,0,1,2] and store it in the variable, new_dfthen find the output for both new_df.loc[2] and new_df.iloc[2]."
   ]
  },
  {
   "cell_type": "code",
   "execution_count": 10,
   "id": "a667d807-b253-4a9f-9cef-9c688c1b5016",
   "metadata": {},
   "outputs": [
    {
     "name": "stdout",
     "output_type": "stream",
     "text": [
      "new_df.loc[2]:\n",
      "course_name    Big Data\n",
      "duration              6\n",
      "Name: 2, dtype: object\n",
      "\n",
      "new_df.iloc[2]:\n",
      "course_name    Machine Learning\n",
      "duration                      3\n",
      "Name: 1, dtype: object\n"
     ]
    }
   ],
   "source": [
    "import pandas as pd\n",
    "\n",
    "# Original DataFrame\n",
    "course_name = ['Data Science', 'Machine Learning', 'Big Data', 'Data Engineer']\n",
    "duration = [2, 3, 6, 4]\n",
    "df = pd.DataFrame(data={'course_name': course_name, 'duration': duration})\n",
    "\n",
    "# Reindexing\n",
    "reindex = [3, 0, 1, 2]\n",
    "new_df = df.reindex(reindex)\n",
    "\n",
    "# Outputs\n",
    "print(\"new_df.loc[2]:\")\n",
    "print(new_df.loc[2])  # Access by label\n",
    "print(\"\\nnew_df.iloc[2]:\")\n",
    "print(new_df.iloc[2])  # Access by position\n"
   ]
  },
  {
   "cell_type": "markdown",
   "id": "b705739a-a10e-4331-9709-5e30b478512c",
   "metadata": {},
   "source": [
    "# Q4. Write a code to find the following statistical measurements for the above dataframe df1:(i) mean of each and every column present in the dataframe.(ii) standard deviation of column, ‘column_2’"
   ]
  },
  {
   "cell_type": "code",
   "execution_count": 11,
   "id": "f8f7e287-b2ca-4601-93ea-38e136f4c9f0",
   "metadata": {},
   "outputs": [
    {
     "name": "stdout",
     "output_type": "stream",
     "text": [
      "Mean of each column:\n",
      " column_1    30.0\n",
      "column_2    25.0\n",
      "column_3     6.0\n",
      "dtype: float64\n",
      "\n",
      "Standard Deviation of 'column_2': 15.811388300841896\n"
     ]
    }
   ],
   "source": [
    "import pandas as pd\n",
    "\n",
    "# Sample DataFrame df1\n",
    "data = {\n",
    "    'column_1': [10, 20, 30, 40, 50],\n",
    "    'column_2': [5, 15, 25, 35, 45],\n",
    "    'column_3': [2, 4, 6, 8, 10]\n",
    "}\n",
    "df1 = pd.DataFrame(data)\n",
    "\n",
    "# (i) Mean of each and every column present in the dataframe\n",
    "mean_values = df1.mean()\n",
    "\n",
    "# (ii) Standard deviation of column 'column_2'\n",
    "std_column_2 = df1['column_2'].std()\n",
    "\n",
    "# Print the results\n",
    "print(\"Mean of each column:\\n\", mean_values)\n",
    "print(\"\\nStandard Deviation of 'column_2':\", std_column_2)\n"
   ]
  },
  {
   "cell_type": "markdown",
   "id": "6b5e9449-3aec-4743-8c77-6e210a557652",
   "metadata": {},
   "source": [
    "# Q5. Replace the data present in the second row of column, ‘column_2’ by a string variable then find themean of column, column_2.If you are getting errors in executing it then explain why.[Hint: To replace the data use df1.loc[] and equate this to string data of your choice.]"
   ]
  },
  {
   "cell_type": "code",
   "execution_count": 12,
   "id": "6a863c5a-68d7-4e92-8b4e-76b263c7205a",
   "metadata": {},
   "outputs": [
    {
     "name": "stdout",
     "output_type": "stream",
     "text": [
      "Error: unsupported operand type(s) for +: 'int' and 'str'\n"
     ]
    }
   ],
   "source": [
    "import pandas as pd\n",
    "\n",
    "# Sample DataFrame df1\n",
    "data = {\n",
    "    'column_1': [10, 20, 30, 40, 50],\n",
    "    'column_2': [5, 15, 25, 35, 45],\n",
    "    'column_3': [2, 4, 6, 8, 10]\n",
    "}\n",
    "df1 = pd.DataFrame(data)\n",
    "\n",
    "# Replacing the data in the second row of 'column_2' with a string\n",
    "df1.loc[1, 'column_2'] = 'string_value'\n",
    "\n",
    "# Attempting to calculate the mean of 'column_2'\n",
    "try:\n",
    "    mean_column_2 = df1['column_2'].mean()\n",
    "    print(\"Mean of 'column_2':\", mean_column_2)\n",
    "except TypeError as e:\n",
    "    print(\"Error:\", e)\n"
   ]
  },
  {
   "cell_type": "markdown",
   "id": "4e5604b5-7b63-4537-b0b4-7f755090fd31",
   "metadata": {},
   "source": [
    "# Q6. What do you understand about the windows function in pandas and list the types of windowsfunctions?"
   ]
  },
  {
   "cell_type": "raw",
   "id": "4ccb31e3-1779-40b9-83e7-3ca38921d68f",
   "metadata": {},
   "source": [
    "n pandas, a window function is used to perform calculations across a sliding window of data, typically on a time series or other sequential data. The window function allows for the calculation of statistics (like mean, sum, or standard deviation) over a specific range of rows, known as the \"window,\" which moves (or \"slides\") across the data.\n",
    "\n",
    "Key Concepts:\n",
    "Window Size: The number of observations in the window that is used for calculations.\n",
    "Sliding Window: The window slides across the data, row by row, to calculate the function over different subsets of the data.\n",
    "Centering: You can choose whether to align the window with the center of the current data point or to have it trailing or leading.\n",
    "Types of Window Functions:\n",
    "Rolling Window Functions (.rolling())\n",
    "\n",
    "Description: Calculates the desired statistic over a rolling window of a fixed size.\n",
    "Example Operations: mean(), sum(), std(), min(), max()."
   ]
  },
  {
   "cell_type": "code",
   "execution_count": null,
   "id": "70edad15-d27e-4297-b997-0e5b7f77da2d",
   "metadata": {},
   "outputs": [],
   "source": [
    "df['rolling_mean'] = df['column'].rolling(window=3).mean()"
   ]
  },
  {
   "cell_type": "markdown",
   "id": "fda81f02-ecc5-4abe-8108-04b2f5be5eb8",
   "metadata": {},
   "source": [
    "# Q7. Write a code to print only the current month and year at the time of answering this question.[Hint: Use pandas.datetime function]df['rolling_mean'] = df['column'].rolling(window=3).mean()"
   ]
  },
  {
   "cell_type": "code",
   "execution_count": 14,
   "id": "8eab3870-647c-41e8-bd05-bb4414ad260c",
   "metadata": {},
   "outputs": [
    {
     "name": "stdout",
     "output_type": "stream",
     "text": [
      "Current Month: 8, Current Year: 2024\n"
     ]
    }
   ],
   "source": [
    "import pandas as pd\n",
    "\n",
    "# Get the current date and time\n",
    "current_date = pd.Timestamp.now()\n",
    "\n",
    "# Extract the current month and year\n",
    "current_month = current_date.month\n",
    "current_year = current_date.year\n",
    "\n",
    "# Print the current month and year\n",
    "print(f\"Current Month: {current_month}, Current Year: {current_year}\")\n"
   ]
  },
  {
   "cell_type": "markdown",
   "id": "909297e2-80c9-4f11-a1d4-f0e2caed6e56",
   "metadata": {},
   "source": [
    "# Q8. Write a Python program that takes in two dates as input (in the format YYYY-MM-DD) andcalculates the difference between them in days, hours, and minutes using Pandas time delta. Theprogram should prompt the user to enter the dates and display the result."
   ]
  },
  {
   "cell_type": "code",
   "execution_count": 15,
   "id": "04cf8ce5-c323-484f-a807-59c820efc76b",
   "metadata": {},
   "outputs": [
    {
     "name": "stdin",
     "output_type": "stream",
     "text": [
      "Enter the first date (YYYY-MM-DD):  2022-12-31\n",
      "Enter the second date (YYYY-MM-DD):  2023-12-31\n"
     ]
    },
    {
     "name": "stdout",
     "output_type": "stream",
     "text": [
      "Difference between 2022-12-31 and 2023-12-31:\n",
      "365 days, 0 hours, and 0 minutes\n"
     ]
    }
   ],
   "source": [
    "import pandas as pd\n",
    "\n",
    "# Function to calculate the difference between two dates\n",
    "def calculate_date_difference(date1, date2):\n",
    "    # Convert the input strings to pandas Timestamp\n",
    "    date1 = pd.Timestamp(date1)\n",
    "    date2 = pd.Timestamp(date2)\n",
    "    \n",
    "    # Calculate the difference\n",
    "    difference = date2 - date1\n",
    "    \n",
    "    # Extract days, hours, and minutes from the difference\n",
    "    days = difference.days\n",
    "    hours, remainder = divmod(difference.seconds, 3600)\n",
    "    minutes = remainder // 60\n",
    "    \n",
    "    return days, hours, minutes\n",
    "\n",
    "# Prompt the user to enter the dates\n",
    "date1_input = input(\"Enter the first date (YYYY-MM-DD): \")\n",
    "date2_input = input(\"Enter the second date (YYYY-MM-DD): \")\n",
    "\n",
    "# Calculate the difference\n",
    "days, hours, minutes = calculate_date_difference(date1_input, date2_input)\n",
    "\n",
    "# Display the result\n",
    "print(f\"Difference between {date1_input} and {date2_input}:\")\n",
    "print(f\"{days} days, {hours} hours, and {minutes} minutes\")\n"
   ]
  },
  {
   "cell_type": "code",
   "execution_count": null,
   "id": "8e83f3bd-ba6a-4670-92d3-d813cd784ea0",
   "metadata": {},
   "outputs": [],
   "source": []
  }
 ],
 "metadata": {
  "kernelspec": {
   "display_name": "Python 3 (ipykernel)",
   "language": "python",
   "name": "python3"
  },
  "language_info": {
   "codemirror_mode": {
    "name": "ipython",
    "version": 3
   },
   "file_extension": ".py",
   "mimetype": "text/x-python",
   "name": "python",
   "nbconvert_exporter": "python",
   "pygments_lexer": "ipython3",
   "version": "3.10.8"
  }
 },
 "nbformat": 4,
 "nbformat_minor": 5
}
