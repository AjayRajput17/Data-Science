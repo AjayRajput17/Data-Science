{
 "cells": [
  {
   "cell_type": "markdown",
   "id": "3fc83e8b-ce1e-4377-8dee-51eefbc65a91",
   "metadata": {},
   "source": [
    "# Question 1"
   ]
  },
  {
   "cell_type": "markdown",
   "id": "bd56f8a3-9fca-4657-a51f-42a8a9a77845",
   "metadata": {},
   "source": [
    "Q1. What is a database? Differentiate between SQL and NoSQL databases."
   ]
  },
  {
   "cell_type": "markdown",
   "id": "b1de0e92-8da1-46ed-8b3e-c2633c4b6f71",
   "metadata": {},
   "source": [
    "Database :                                                                                                                                A database is a structured collection of data that is organized and stored for efficient retrieval, manipulation, and management. It allows users or applications to store, retrieve, update, and delete data in a systematic and organized manner."
   ]
  },
  {
   "cell_type": "markdown",
   "id": "29d3b50e-935a-42a3-b675-72efd39011d0",
   "metadata": {},
   "source": [
    "SQL Databases:\n",
    "\n",
    "1. Data Model: SQL databases use a structured data model, often referred to as a relational model. Data is organized into tables with predefined schemas, where tables have rows (records) and columns (attributes).\n",
    "\n",
    "2. Query Language: SQL databases use SQL as their standard query language. SQL provides a rich set of commands and functions for performing operations like selecting, filtering, joining, and aggregating data.\n",
    "\n",
    "3. Schema: SQL databases typically enforce a schema that defines the structure and relationships between tables. Schemas ensure data integrity and consistency by defining constraints such as data types, primary keys, foreign keys, and relationships.\n",
    "\n",
    "4. Scalability: SQL databases are generally well-suited for handling structured data and complex relationships. They excel in scenarios that require complex queries, transactions, and data integrity guarantees.\n",
    "\n",
    "  Examples: MySQL, PostgreSQL, Oracle Database, Microsoft SQL Server"
   ]
  },
  {
   "cell_type": "markdown",
   "id": "dbad9c92-fed3-4f25-922d-8dc427ed203e",
   "metadata": {},
   "source": [
    "NoSQL Databases:\n",
    "\n",
    "1. Data Model: NoSQL databases use various data models, including key-value, document, columnar, and graph models. These models offer flexibility in handling unstructured, semi-structured, and diverse data formats.\n",
    "\n",
    "2. Query Language: NoSQL databases may have their own query languages, but they often lack a standardized query language like SQL. Some NoSQL databases provide APIs (Application Programming Interfaces) for data access and manipulation.\n",
    "\n",
    "3. Schema: NoSQL databases are schema-less or have flexible schemas, allowing for dynamic changes to the data structure without rigid constraints. This flexibility is suitable for scenarios where the data schema evolves over time.\n",
    "\n",
    "4. Scalability: NoSQL databases are designed to scale horizontally, meaning they can handle large volumes of data across multiple servers or nodes. They excel in scenarios with high write and read loads, massive scalability, and distributed systems.\n",
    "\n",
    "  Examples: MongoDB, Cassandra, Redis, Couchbase."
   ]
  },
  {
   "cell_type": "markdown",
   "id": "a7d385a9-c92d-4640-8aaa-3d18242d23e2",
   "metadata": {},
   "source": [
    "# Question 2"
   ]
  },
  {
   "cell_type": "markdown",
   "id": "b5a61237-9ea0-4d76-b935-b37e93c7054a",
   "metadata": {},
   "source": [
    "Q2. What is DDL? Explain why CREATE, DROP, ALTER, and TRUNCATE are used with an example."
   ]
  },
  {
   "cell_type": "markdown",
   "id": "684ae8d9-5618-4110-95b9-7e2fb340ad90",
   "metadata": {},
   "source": [
    "DDL stands for Data Definition Language. It is a subset of SQL (Structured Query Language) that is used to define and manage the structure of a database and its objects. DDL statements are used to create, modify, and delete database objects such as tables, indexes, views, and schemas."
   ]
  },
  {
   "cell_type": "markdown",
   "id": "cafd3876-c759-41ba-b5f7-718892b1579a",
   "metadata": {},
   "source": [
    "1. CREATE: The CREATE statement is used to create a new database object, such as a table, view, or index. It specifies the name of the object, its columns (for tables), and other relevant properties.                           \n",
    "example:-                                 \n",
    "\n",
    "CREATE TABLE Employees (                             \n",
    "  EmployeeID INT,                             \n",
    "  FirstName VARCHAR(50),                            \n",
    "  LastName VARCHAR(50),                                           \n",
    "  HireDate DATE                                     \n",
    ");                     \n"
   ]
  },
  {
   "cell_type": "markdown",
   "id": "e03fb3f1-3d0f-4fca-acfc-1d28041e605c",
   "metadata": {},
   "source": [
    "2. DROP: The DROP statement is used to delete a database object, such as a table or view. It permanently removes the object and its data from the database.\n",
    "\n",
    "Example:  DROP TABLE Employees;\n"
   ]
  },
  {
   "cell_type": "markdown",
   "id": "203239a7-f802-4a2c-b803-e9ea0a46df1d",
   "metadata": {},
   "source": [
    "3. ALTER: The ALTER statement is used to modify the structure or properties of an existing database object. It allows you to add, modify, or delete columns, constraints, indexes, or other object properties.\n",
    "\n",
    "Example:                                                                                      \n",
    "         ALTER TABLE EmployeesADD COLUMN Email VARCHAR(100);                  \n"
   ]
  },
  {
   "cell_type": "markdown",
   "id": "379f3702-5b52-4b85-87d7-2267c0c4ac07",
   "metadata": {},
   "source": [
    "4. TRUNCATE: The TRUNCATE statement is used to delete all data from a table while keeping its structure intact. It is faster than using DELETE statement, as it removes all rows without logging individual deletions.\n",
    "\n",
    "Example: TRUNCATE TABLE Employees;\n"
   ]
  },
  {
   "cell_type": "markdown",
   "id": "ac38f684-7a5f-43a1-b37f-11f7b39bb688",
   "metadata": {
    "tags": []
   },
   "source": [
    "# Question 3"
   ]
  },
  {
   "cell_type": "markdown",
   "id": "2226f8b9-be62-4ff0-b1fc-94d0b213337b",
   "metadata": {},
   "source": [
    "Q3. What is DML? Explain INSERT, UPDATE, and DELETE with an example."
   ]
  },
  {
   "cell_type": "markdown",
   "id": "f2f284c2-5976-4e18-9b70-f1fe14570c7e",
   "metadata": {},
   "source": [
    "DML stands for Data Manipulation Language. It is a subset of SQL (Structured Query Language) that is used to manipulate or interact with data stored in a database. DML statements are used to insert, update, and delete data within database tables."
   ]
  },
  {
   "cell_type": "markdown",
   "id": "02cc0557-4aa8-418c-ace5-93a8aa9745cd",
   "metadata": {},
   "source": [
    "1. INSERT: The INSERT statement is used to insert new rows of data into a table. It specifies the table name and the values to be inserted into the corresponding columns.\n",
    "\n",
    "Example:                                             \n",
    "             INSERT INTO Employees (EmployeeID, FirstName, LastName, HireDate)\n",
    "                        VALUES (1, 'John', 'Doe', '2022-01-01');\n",
    "\n",
    "        "
   ]
  },
  {
   "cell_type": "markdown",
   "id": "f4ffca09-67df-4259-983b-6d272da2c31d",
   "metadata": {},
   "source": [
    "2.UPDATE: The UPDATE statement is used to modify existing data within a table. It allows you to update specific columns and rows based on specified conditions.\n",
    "\n",
    "Example:            \n",
    "         UPDATE Employees\n",
    "SET LastName = 'Smith'\n",
    "WHERE EmployeeID = 1;\n"
   ]
  },
  {
   "cell_type": "markdown",
   "id": "e4fcc03d-090c-46a8-a3e1-ecea1357e6c1",
   "metadata": {},
   "source": [
    "DELETE: The DELETE statement is used to delete existing rows from a table. It allows you to remove specific rows based on specified conditions.\n",
    "\n",
    "Example:                  \n",
    "         DELETE FROM Employees WHERE EmployeeID = 1;\n"
   ]
  },
  {
   "cell_type": "markdown",
   "id": "bcac6c5a-b1d1-4bf3-a1f3-803f63f1a573",
   "metadata": {},
   "source": [
    "# Question 4"
   ]
  },
  {
   "cell_type": "markdown",
   "id": "7ffb6c0c-5727-4732-9849-ca224106be10",
   "metadata": {},
   "source": [
    "Q4. What is DQL? Explain SELECT with an example."
   ]
  },
  {
   "cell_type": "markdown",
   "id": "dead74d5-0fcb-4c87-87de-c707646a3861",
   "metadata": {},
   "source": [
    "DQL stands for Data Query Language. It is a subset of SQL (Structured Query Language) that is used to retrieve and query data from a database. DQL statements, particularly the SELECT statement, are used to retrieve specific data from one or more tables in a database."
   ]
  },
  {
   "cell_type": "markdown",
   "id": "345adda7-36f7-4b46-ba0b-8c000dc69f3d",
   "metadata": {},
   "source": [
    "SELECT: The SELECT statement is used to query and retrieve data from one or more tables in a database. It allows you to specify the columns to retrieve, the table(s) to query, and optional conditions to filter the results."
   ]
  },
  {
   "cell_type": "markdown",
   "id": "0981c1fb-6ebe-478a-9f0c-5e1583df7d51",
   "metadata": {},
   "source": [
    "Examole:                      \n",
    "\n",
    "SELECT FirstName, LastName, HireDate\n",
    "FROM Employees\n",
    "WHERE HireDate >= '2022-01-01';\n"
   ]
  },
  {
   "cell_type": "markdown",
   "id": "318e9c35-5ede-458f-a1a8-4671043337ec",
   "metadata": {},
   "source": [
    "# Question 5"
   ]
  },
  {
   "cell_type": "markdown",
   "id": "f337e0aa-050c-4e36-b117-cbefc9e073af",
   "metadata": {},
   "source": [
    "Q5. Explain Primary Key and Foreign Key."
   ]
  },
  {
   "cell_type": "markdown",
   "id": "92bbda4e-caf2-498f-bcb1-0aa808e7ad88",
   "metadata": {},
   "source": [
    "Primary Key:                                               \n",
    "           A primary key is a column or a combination of columns in a database table that uniquely identifies each row. It enforces entity integrity by ensuring that each row in a table is uniquely identifiable. The primary key must have the following characteristics:\n",
    "\n",
    "Uniqueness:                            \n",
    "            Each value in the primary key column(s) must be unique, meaning no two rows can have the same value in the primary key.\n",
    "Non-nullability:                             \n",
    "         The primary key column(s) cannot contain null values. Each row must have a valid and non-null value for the primary key.\n",
    "Immutability:          \n",
    "             The primary key value(s) should not change once a row is inserted into the table.\n",
    "Single-valued:                      \n",
    "            A primary key should consist of a single column or a combination of columns that uniquely identifies a row.\n",
    "\n",
    "\n",
    "Foreign Key:                          \n",
    "           A foreign key is a column or a combination of columns in a database table that refers to the primary key of another table. It establishes a link or relationship between two tables. The foreign key column(s) in one table reference the primary key column(s) of another table.\n",
    "\n",
    "The foreign key relationship provides the following benefits:\n",
    "\n",
    "Referential Integrity:\n",
    "                     It ensures that the values in the foreign key column(s) of a table correspond to valid values in the referenced primary key column(s) of another table. It prevents data inconsistencies and maintains the integrity of the data.\n",
    "\n",
    "Relationship Establishment: \n",
    "                It establishes logical relationships between tables, allowing tables to be connected based on shared information.\n",
    "\n",
    "Data Consistency:\n",
    "                 Foreign keys help enforce data consistency and prevent actions that could result in orphaned records. For example, if a row is deleted or updated in the referenced table, the foreign key relationship can be configured to automatically update or restrict the corresponding actions in the referring table.\n",
    "\n",
    "Joins and Querying: \n",
    "                   Foreign keys enable joining tables based on the relationship, allowing complex queries that retrieve data from multiple related tables."
   ]
  },
  {
   "cell_type": "markdown",
   "id": "d0b85ce8-7e88-4dbd-a25d-0c34356f95de",
   "metadata": {},
   "source": [
    "# Question 6"
   ]
  },
  {
   "cell_type": "markdown",
   "id": "51456e22-0fc1-49ea-ad6d-90ce597e7fd8",
   "metadata": {},
   "source": [
    "Q6. Write a python code to connect MySQL to python. Explain the cursor() and execute() method."
   ]
  },
  {
   "cell_type": "markdown",
   "id": "72c80f38-dba8-43cb-b68e-aa5c2d72123d",
   "metadata": {
    "jp-MarkdownHeadingCollapsed": true,
    "tags": []
   },
   "source": [
    "import mysql.connector\n",
    "\n",
    "mydb = mysql.connector.connect(\n",
    "\n",
    "    host = \"localhost\",\n",
    "    user = \"abc\",\n",
    "    password = \"password\"\n",
    ") \n",
    "                                \n",
    "#creation of cursor object                                           \n",
    "mycursor = mydb.cursor()                                    \n",
    "\n",
    "#databse creation                                             \n",
    "mycursor.execute(\"CREATE DATABASE if not exists sample\")                              \n",
    "\n",
    "#creation of table in the database                                        \n",
    "mycursor.execute(\"CREATE TABLE if not exists sample.emp(emp_name varchar(50), emp_id int, salary float, postion varchar(50))\")\n",
    "\n",
    "#Insert the values in the table                            \n",
    "mycursor.execute(\"INSERT INTO  sample.emp(emp_name,emp_id,salary,postion)values('ajay',101,5000.00,'manager') \")\n",
    "\n",
    "#retrive the vallue from the database                                   \n",
    "mycursor.execute(\"select * from sample.emp\")                         \n",
    "for i in mycursor:                                                                                                                                                                                                                                                  print(i)"
   ]
  },
  {
   "cell_type": "markdown",
   "id": "516502af-bd83-4bd8-b229-d878d3b4e30c",
   "metadata": {},
   "source": [
    "The cursor() method creates a cursor object that allows you to execute SQL statements and manage the result set. It provides methods such as execute(), fetchall(), fetchone(), etc., to interact with the database.\n",
    "\n",
    "The execute() method is used to execute SQL queries. It takes the SQL query as a parameter and executes it on the database. You can pass SQL statements like SELECT, INSERT, UPDATE, DELETE, etc., to this method. It returns the result (if any) of the executed query."
   ]
  },
  {
   "cell_type": "markdown",
   "id": "9e6ebacf-b944-4dfb-b497-64928451eaf7",
   "metadata": {},
   "source": [
    "# Question 7"
   ]
  },
  {
   "cell_type": "markdown",
   "id": "914cf011-7384-454f-b710-7e1ebf184077",
   "metadata": {},
   "source": [
    "The order of execution of SQL clauses in an SQL query is as follows:\n",
    "\n",
    "1. FROM: The FROM clause specifies the table or tables from which the data will be retrieved. It identifies the source tables for the query.\n",
    "\n",
    "2. WHERE: The WHERE clause filters the rows from the tables based on specified conditions. It allows you to specify criteria to select specific rows that meet the given conditions.\n",
    "\n",
    "3. GROUP BY: The GROUP BY clause is used to group the rows based on one or more columns. It is typically used with aggregate functions like SUM, COUNT, AVG, etc., to perform calculations on groups of rows.\n",
    "\n",
    "4. HAVING: The HAVING clause is used to filter the groups created by the GROUP BY clause based on specified conditions. It acts as a filter for the grouped data.\n",
    "\n",
    "5. SELECT: The SELECT clause specifies the columns that will be included in the result set. It selects the desired columns or expressions to be retrieved from the table(s).\n",
    "\n",
    "6. DISTINCT: The DISTINCT clause eliminates duplicate rows from the result set. It ensures that only unique rows are returned.\n",
    "\n",
    "7. ORDER BY: The ORDER BY clause is used to sort the result set based on specified columns. It allows you to sort the rows in ascending or descending order.\n",
    "\n",
    "8. LIMIT/OFFSET: The LIMIT/OFFSET clause is used to limit the number of rows returned by the query or to specify the starting point for retrieving rows. It is commonly used for pagination or to restrict the number of results."
   ]
  },
  {
   "cell_type": "code",
   "execution_count": null,
   "id": "992cda65-f225-4799-b1eb-7af2c9ed6146",
   "metadata": {},
   "outputs": [],
   "source": []
  }
 ],
 "metadata": {
  "kernelspec": {
   "display_name": "Python 3 (ipykernel)",
   "language": "python",
   "name": "python3"
  },
  "language_info": {
   "codemirror_mode": {
    "name": "ipython",
    "version": 3
   },
   "file_extension": ".py",
   "mimetype": "text/x-python",
   "name": "python",
   "nbconvert_exporter": "python",
   "pygments_lexer": "ipython3",
   "version": "3.10.8"
  }
 },
 "nbformat": 4,
 "nbformat_minor": 5
}
