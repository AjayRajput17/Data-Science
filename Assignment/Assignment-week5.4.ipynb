{
 "cells": [
  {
   "cell_type": "markdown",
   "id": "70b7ba71-a639-44dd-b7d9-cc80ad36f9b7",
   "metadata": {},
   "source": [
    "Question 1"
   ]
  },
  {
   "cell_type": "markdown",
   "id": "1598bd77-2fcd-49ee-8eef-4bb9ca229b51",
   "metadata": {},
   "source": [
    "Q1. What is multiprocessing in python? Why is it useful?"
   ]
  },
  {
   "cell_type": "markdown",
   "id": "6eda861d-73e3-4e6d-91fe-d664450dd01e",
   "metadata": {},
   "source": [
    "In Python, multiprocessing is a module that allows the execution of multiple processes in parallel, leveraging the capabilities of multiple CPU cores or processors. It enables the creation and management of separate processes, each running in its own memory space, which can execute tasks concurrently.\n",
    "\n",
    "Here are some key points regarding multiprocessing and its usefulness:\n",
    "\n",
    "Parallel Execution: Multiprocessing enables parallel execution of tasks by distributing them across multiple processes. Each process runs independently, utilizing separate memory space and CPU resources. This can significantly improve the performance and efficiency of CPU-intensive tasks, as they can be executed simultaneously on different cores.\n",
    "\n",
    "CPU-bound Tasks: Multiprocessing is particularly useful for CPU-bound tasks, where the execution time is primarily determined by the processing power of the CPU rather than external factors like I/O operations. Examples of CPU-bound tasks include mathematical computations, simulations, and data processing tasks that involve heavy computations.\n",
    "\n",
    "Process Isolation: Each process created with multiprocessing runs in its own isolated memory space. This provides a level of protection and ensures that processes do not interfere with each other's memory, avoiding issues such as data corruption or unintended side effects."
   ]
  },
  {
   "cell_type": "markdown",
   "id": "1d2de086-0110-458b-a5c0-1c85f2470c8a",
   "metadata": {},
   "source": [
    "Question 2"
   ]
  },
  {
   "cell_type": "markdown",
   "id": "f006fc1d-2d92-4544-aff1-e0064f53cad9",
   "metadata": {},
   "source": [
    "Q2. What are the differences between multiprocessing and multithreading?"
   ]
  },
  {
   "cell_type": "markdown",
   "id": "b57d5ad7-be84-4fce-ab86-d7c7be377676",
   "metadata": {},
   "source": [
    "\n",
    " here are the key differences between multiprocessing and multithreading:    \n",
    "\n",
    "Multiprocessing   \n",
    "\n",
    "1.Multiple processes are executed simultaneously.   \n",
    "2.Each process has its own address space.   \n",
    "3.Process creation is a relatively expensive operation.    \n",
    "4.It is well-suited for CPU-intensive tasks.      \n",
    "\n",
    "Multithreading     \n",
    "\n",
    "1.Multiple threads are executed simultaneously within a single process.     \n",
    "2.All threads share the same address space.      \n",
    "3.Thread creation is a relatively inexpensive operation.     \n",
    "4.It is well-suited for I/O-bound tasks.     "
   ]
  },
  {
   "cell_type": "markdown",
   "id": "a487d56f-9741-4405-bd55-ad1b1862318b",
   "metadata": {},
   "source": [
    "Question 3"
   ]
  },
  {
   "cell_type": "markdown",
   "id": "c22420aa-7d9d-40bb-b3b9-698db16ab273",
   "metadata": {},
   "source": [
    "Q3. Write a python code to create a process using the multiprocessing module."
   ]
  },
  {
   "cell_type": "code",
   "execution_count": 17,
   "id": "adb0d228-adff-4656-b8da-17c976b19efe",
   "metadata": {},
   "outputs": [
    {
     "name": "stdout",
     "output_type": "stream",
     "text": [
      "[1, 4, 9, 16, 25, 36, 49, 64, 81]\n"
     ]
    }
   ],
   "source": [
    "import multiprocessing\n",
    "\n",
    "def square(lst):\n",
    "    a = [i**2 for i in lst]  \n",
    "    print(a)\n",
    "        \n",
    "if __name__ == '__main__':\n",
    "    \n",
    "    list = [1,2,3,4,5,6,7,8,9]\n",
    "    m1 = multiprocessing.Process(target= square, args = (list,))\n",
    "    m1.start()\n",
    "    m1.join()"
   ]
  },
  {
   "cell_type": "markdown",
   "id": "da15567c-725e-482e-8f10-70729c80eda8",
   "metadata": {},
   "source": [
    "Question 4"
   ]
  },
  {
   "cell_type": "markdown",
   "id": "c0ebd9d0-d31b-4248-8460-32804250c7bd",
   "metadata": {},
   "source": [
    "Q4. What is a multiprocessing pool in python? Why is it used?"
   ]
  },
  {
   "cell_type": "markdown",
   "id": "2d228fa1-6408-4380-8e39-5cb8e5476640",
   "metadata": {},
   "source": [
    "In Python, a multiprocessing pool is a mechanism provided by the multiprocessing module to manage a pool of worker processes. It allows for the efficient parallel execution of a function or task across multiple processes, utilizing the available system resources.\n",
    "\n",
    "Here are the key points regarding multiprocessing pool and its usage:\n",
    "\n",
    "Pool of Worker Processes: A multiprocessing pool consists of a fixed number of worker processes that can execute tasks in parallel. The pool manages the creation, allocation, and distribution of these worker processes.\n",
    "\n",
    "Task Distribution: The pool takes care of distributing tasks among the worker processes, ensuring efficient utilization of available CPU cores. It automatically assigns tasks to idle workers, reducing the overhead of process creation and termination.\n",
    "\n",
    "Synchronization and Communication: The multiprocessing pool provides mechanisms for synchronization and communication between the main process and the worker processes. It allows passing tasks and returning results, enabling the main process to collect and process the results efficiently.\n",
    "\n",
    "Easy Parallelism: Using a multiprocessing pool simplifies the process of parallelizing tasks. Instead of manually creating and managing individual worker processes, the pool abstracts away the details, allowing developers to focus on the task logic itself.\n",
    "\n",
    "Improved Performance: Multiprocessing pools are useful for CPU-bound tasks, where parallel execution can lead to significant performance improvements. By leveraging multiple worker processes, the pool enables the execution of tasks in parallel, taking advantage of available CPU cores and reducing overall execution time.\n",
    "\n",
    "Resource Management: The multiprocessing pool manages the allocation and recycling of worker processes. It ensures that the number of active worker processes remains within the specified pool size, preventing excessive resource consumption."
   ]
  },
  {
   "cell_type": "markdown",
   "id": "de9d98cb-f8d7-4049-a7db-95333c413efd",
   "metadata": {},
   "source": [
    "Question 5"
   ]
  },
  {
   "cell_type": "markdown",
   "id": "72fb8270-a7fd-44fa-8f96-e6da39b7b2f1",
   "metadata": {},
   "source": [
    "Q5. How can we create a pool of worker processes in python using the multiprocessing module?"
   ]
  },
  {
   "cell_type": "markdown",
   "id": "add2a872-a784-4ec9-a3e5-c85b94e352cf",
   "metadata": {},
   "source": [
    "1.Import the multiprocessing module.\n",
    "\n",
    "2.Define the process_task function that represents the task you want to execute in parallel. This function takes a task as input and performs the required processing.\n",
    "\n",
    "3.Wrap the main code in the if __name__ == \"__main__\": condition. This is necessary to prevent the child processes from creating new pools.\n",
    "\n",
    "4.Create a Pool object by specifying the desired number of worker processes using the processes argument. In this example, a pool of 4 worker processes is created.\n",
    "\n",
    "5.Define the tasks you want to execute in parallel. These can be any iterable (e.g., a list) containing the tasks to be processed.\n",
    "\n",
    "6.Use the map() method of the pool to apply the process_task function to each task. The map() method distributes the tasks across the worker processes and returns the results.\n",
    "\n",
    "6.After all tasks are completed, close the pool using the close() method to prevent further task submission.\n",
    "\n",
    "7.Use the join() method to wait for the worker processes to finish before proceeding with further code execution.\n",
    "Process the results obtained from the map() operation as needed."
   ]
  },
  {
   "cell_type": "code",
   "execution_count": 18,
   "id": "3a1f5180-c33b-4b9a-b8e0-8b2cf2484431",
   "metadata": {},
   "outputs": [
    {
     "name": "stdout",
     "output_type": "stream",
     "text": [
      "[1, 4, 9, 16, 25, 36, 49, 64, 81]\n"
     ]
    }
   ],
   "source": [
    "import multiprocessing\n",
    "def square(n):\n",
    "    return n**2\n",
    "\n",
    "if __name__ == '__main__':\n",
    "    with multiprocessing.Pool(processes=4)as pool:\n",
    "        \n",
    "        out =  pool.map(square,[1,2,3,4,5,6,7,8,9])\n",
    "        print(out)\n",
    "    "
   ]
  },
  {
   "cell_type": "markdown",
   "id": "32113e80-3a97-4a42-b503-625fe45fe7e3",
   "metadata": {},
   "source": [
    "Question 6"
   ]
  },
  {
   "cell_type": "markdown",
   "id": "5b58a2b6-d373-4ccb-9689-de5e362eda7f",
   "metadata": {},
   "source": [
    "Q6. Write a python program to create 4 processes, each process should print a different number using the\n",
    "multiprocessing module in python."
   ]
  },
  {
   "cell_type": "code",
   "execution_count": 19,
   "id": "652b90a7-c328-4de7-84cb-c071c208deaa",
   "metadata": {},
   "outputs": [
    {
     "name": "stdout",
     "output_type": "stream",
     "text": [
      "Process Process-7Process :  Process-81 \n",
      "Process:  Process-92Process \n",
      " : Process-103 \n",
      ": 4\n",
      "Main process exiting\n"
     ]
    }
   ],
   "source": [
    "import multiprocessing\n",
    "\n",
    "def print_number(number):\n",
    "    print(\"Process\", multiprocessing.current_process().name, \":\", number)\n",
    "\n",
    "if __name__ == \"__main__\":\n",
    "    # Create a list of numbers\n",
    "    numbers = [1, 2, 3, 4]\n",
    "\n",
    "    # Create four processes\n",
    "    processes = []\n",
    "    for number in numbers:\n",
    "        process = multiprocessing.Process(target=print_number, args=(number,))\n",
    "        processes.append(process)\n",
    "        process.start()\n",
    "\n",
    "    # Wait for all processes to complete\n",
    "    for process in processes:\n",
    "        process.join()\n",
    "\n",
    "    print(\"Main process exiting\")\n"
   ]
  },
  {
   "cell_type": "code",
   "execution_count": null,
   "id": "98b798f3-70d1-4cad-895a-81a3057da07e",
   "metadata": {},
   "outputs": [],
   "source": []
  }
 ],
 "metadata": {
  "kernelspec": {
   "display_name": "Python 3 (ipykernel)",
   "language": "python",
   "name": "python3"
  },
  "language_info": {
   "codemirror_mode": {
    "name": "ipython",
    "version": 3
   },
   "file_extension": ".py",
   "mimetype": "text/x-python",
   "name": "python",
   "nbconvert_exporter": "python",
   "pygments_lexer": "ipython3",
   "version": "3.10.8"
  }
 },
 "nbformat": 4,
 "nbformat_minor": 5
}
